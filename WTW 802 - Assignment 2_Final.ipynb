{
 "cells": [
  {
   "cell_type": "markdown",
   "id": "735697d6-9c31-4f4a-97fa-c1f6ba1c254d",
   "metadata": {
    "include-cell-in-app": true
   },
   "source": [
    "-------------------------------------------------------------------\n",
    "# WTW 801 Assignment 2\n",
    "## Student Name: Muofhe Masikhwa\n",
    "## Student Number: 22902466\n",
    "-------------------------------------------------------------"
   ]
  },
  {
   "cell_type": "markdown",
   "id": "3184f7c1-19b5-4a6d-9514-25439788feed",
   "metadata": {
    "include-cell-in-app": true
   },
   "source": [
    "## Assignment Summary\n",
    "This assignment has two parts. `Part 1` requires simulation of 1{,}500 observations of a trivariate normal $(x,y,z)$ with the given mean vector and covariance, implement PCA from `first principles` and then report the three eigenvectors and eigenvalues, verify orthogonality via pointwise products, and compare $v_1 \\cdot v_3$ with $x \\cdot z$. \n",
    "\n",
    "`Part 2` uses at least five years of daily prices for six U.S.\\ companies: compute returns; set the last three months aside as `Data Set 2` (out-of-sample), with the remainder as `Data Set 1`. On `Data Set 1`, we build a three-factor model using the sample covariance and present factor loadings and factor series that will help us interpret factors, and report the variance share of the first component. Furthermore, we need to assess whether any factor's returns in 2025 differ from prior years (e.g., tariffs). Then redo the model with covariance shrinkage toward $\\mu I$ with weight $\\gamma\\in\\bigl(0,\\tfrac12\\bigr)$, and compare out-of-sample performance on `Data Set 2`.\n",
    "\n",
    "#### NB: For Part 2, we used the yfinance library to dowload data from yahoo finance. This library can be installed using the command: pipinstall yfinance"
   ]
  },
  {
   "cell_type": "code",
   "execution_count": 1,
   "id": "b7ed7493-0829-4601-8cb2-a164345228c0",
   "metadata": {
    "include-cell-in-app": true
   },
   "outputs": [],
   "source": [
    "from pathlib import Path\n",
    "from typing import Tuple, Union\n",
    "from typing import List, Dict, Tuple, Union\n",
    "from datetime import date\n",
    "import itertools\n",
    "import numpy as np\n",
    "import random\n",
    "random.seed(42)\n",
    "import pandas as pd\n",
    "import yfinance as yf\n",
    "import matplotlib.pyplot as plt\n",
    "%matplotlib inline\n",
    "\n",
    "import warnings\n",
    "warnings.simplefilter('ignore')\n",
    "\n",
    "import statsmodels.api as sm\n",
    "from sklearn.decomposition import PCA\n",
    "from sklearn.linear_model import LinearRegression\n",
    "from sklearn.linear_model import RidgeCV, LassoCV\n",
    "from sklearn.metrics import r2_score, mean_absolute_error, mean_squared_error\n",
    "from sklearn import preprocessing"
   ]
  },
  {
   "cell_type": "markdown",
   "id": "48605842-55af-4704-b4c0-7615a81eb8eb",
   "metadata": {
    "include-cell-in-app": true
   },
   "source": [
    "# Question 1 (Principal Component Analysis)"
   ]
  },
  {
   "cell_type": "markdown",
   "id": "ad05fdc1-bf30-464f-a76a-c0ab14a3fc91",
   "metadata": {
    "include-cell-in-app": true
   },
   "source": [
    "#### Generate the data"
   ]
  },
  {
   "cell_type": "code",
   "execution_count": 4,
   "id": "b2f69a8c-34a8-4d0c-9051-8f004ed53e34",
   "metadata": {
    "include-cell-in-app": true
   },
   "outputs": [],
   "source": [
    "def generate_scaled_multivariate_data(mean_vector: np.ndarray,covariance_matrix: np.ndarray,\n",
    "                                      n_samples: int = 150) -> tuple[np.ndarray, np.ndarray, np.ndarray]:\n",
    "    \"\"\"\n",
    "    Generate and scale multivariate normal distributed data.\n",
    "    \n",
    "    Args:\n",
    "        mean_vector: Mean vector for the multivariate normal distribution.\n",
    "        covariance_matrix: Covariance matrix for the multivariate normal distribution.\n",
    "        n_samples: Number of samples to generate. Default is 1500.\n",
    "        \n",
    "    Returns:\n",
    "        tuple: Three arrays containing the scaled x, y, and z data.\n",
    "    \"\"\"\n",
    "    # Generate multivariate normal samples\n",
    "    raw_samples = np.random.multivariate_normal(mean_vector, covariance_matrix, n_samples).T\n",
    "    \n",
    "    return raw_samples"
   ]
  },
  {
   "cell_type": "code",
   "execution_count": 7,
   "id": "abd7e4b8-b8d3-43f8-a842-c1a2d5d13b41",
   "metadata": {
    "include-cell-in-app": true
   },
   "outputs": [],
   "source": [
    "# Usage the function to generate the data\n",
    "mean_vector = np.array([2, 3, 0])\n",
    "covariance_matrix = np.array([[10, 7, 5],[7, 6, 4],[5, 4, 3]])\n",
    "raw_samples = generate_scaled_multivariate_data(mean_vector, covariance_matrix)\n",
    "\n",
    "# Extract individual dimensions\n",
    "x_data = raw_samples[0, :]\n",
    "y_data = raw_samples[1, :]\n",
    "z_data = raw_samples[2, :]"
   ]
  },
  {
   "cell_type": "markdown",
   "id": "59a465c8-c2ff-4059-9c0d-ee8c1e910c28",
   "metadata": {
    "include-cell-in-app": true
   },
   "source": [
    "#### Subtract the mean of each column and compute the covariance matrix $C_{X} = \\frac{1}{N-1}X^{T}X$"
   ]
  },
  {
   "cell_type": "code",
   "execution_count": 10,
   "id": "1b8a93d8-cf23-4b87-95cd-82f0e4eb2046",
   "metadata": {
    "include-cell-in-app": true
   },
   "outputs": [],
   "source": [
    "def compute_covariance_matrix(data: np.ndarray) -> np.ndarray:\n",
    "    \"\"\"\n",
    "    Compute the covariance matrix of the given data.\n",
    "    \n",
    "    Args:\n",
    "        data: Input data array with shape (n_samples, n_features)\n",
    "              where each column represents a sample.\n",
    "    \n",
    "    Returns:\n",
    "        np.ndarray: The covariance matrix with shape (n_features, n_features).\n",
    "    \"\"\"\n",
    "    # Transpose to have samples as rows\n",
    "    data_transposed = data.T\n",
    "    \n",
    "    # Calculate mean along each feature\n",
    "    feature_means = np.mean(data_transposed, axis=0)\n",
    "    \n",
    "    # Center the data by subtracting the mean\n",
    "    centered_data = data_transposed - feature_means\n",
    "    \n",
    "    # Calculate covariance matrix using the formula:\n",
    "    # cov = (1/(n-1)) * (X - mean(X))^T * (X - mean(X))\n",
    "    n_samples = data.shape[1]\n",
    "    covariance_matrix = (1 / (n_samples - 1)) * centered_data.T.dot(centered_data)\n",
    "    \n",
    "    return covariance_matrix\n"
   ]
  },
  {
   "cell_type": "code",
   "execution_count": 12,
   "id": "99a81e97-a1e0-4b9f-9cfb-57e9b3fb5c5f",
   "metadata": {
    "include-cell-in-app": true
   },
   "outputs": [
    {
     "data": {
      "text/plain": [
       "array([[9.62125833, 6.67483561, 4.59643095],\n",
       "       [6.67483561, 5.73555859, 3.68822705],\n",
       "       [4.59643095, 3.68822705, 2.71915994]])"
      ]
     },
     "execution_count": 12,
     "metadata": {},
     "output_type": "execute_result"
    }
   ],
   "source": [
    "# Calculate the covariance matrix for scale_data\n",
    "covariance = compute_covariance_matrix(raw_samples)\n",
    "covariance"
   ]
  },
  {
   "cell_type": "markdown",
   "id": "85bbfaa1-8c02-4594-819d-06d1b3482d06",
   "metadata": {
    "include-cell-in-app": true
   },
   "source": [
    "#### Compute the eigenvalues and eigenvectors of the covaraince matrix $C_{X}$"
   ]
  },
  {
   "cell_type": "code",
   "execution_count": 15,
   "id": "3cdc9d3b-8a8e-466f-afa1-eae17a597dd2",
   "metadata": {
    "include-cell-in-app": true
   },
   "outputs": [
    {
     "data": {
      "text/plain": [
       "array([17.05131543,  0.78982358,  0.23483784])"
      ]
     },
     "execution_count": 15,
     "metadata": {},
     "output_type": "execute_result"
    }
   ],
   "source": [
    "eigenvalues, eigenvectors = np.linalg.eig(covariance)\n",
    "eigenvalues  # Return eigenvalues for inspection"
   ]
  },
  {
   "cell_type": "markdown",
   "id": "2244292b-d2b7-4055-b95a-33a9a634b95c",
   "metadata": {
    "include-cell-in-app": true
   },
   "source": [
    "#### Sort the eigentvalues and compute the explained variance"
   ]
  },
  {
   "cell_type": "code",
   "execution_count": 18,
   "id": "d8e681d9-dba4-491d-abda-14ff7572bc8d",
   "metadata": {
    "include-cell-in-app": true
   },
   "outputs": [
    {
     "name": "stdout",
     "output_type": "stream",
     "text": [
      "Eigenvalues in descending order:\n",
      "Eigenvalue 1: 17.051315\n",
      "Eigenvalue 2: 0.789824\n",
      "Eigenvalue 3: 0.234838\n"
     ]
    }
   ],
   "source": [
    "def sort_eigenvalues_and_vectors(eig_vals: np.ndarray, eig_vecs: np.ndarray) -> list:\n",
    "    \"\"\"\n",
    "    Sort eigenvalues in descending order and pair them with their corresponding eigenvectors.\n",
    "    \n",
    "    Args:\n",
    "        eig_vals (np.ndarray): Array of eigenvalues\n",
    "        eig_vecs (np.ndarray): Matrix of eigenvectors as columns\n",
    "        \n",
    "    Returns:\n",
    "        list: List of tuples containing (eigenvalue, eigenvector) pairs sorted by descending eigenvalue magnitude\n",
    "    \"\"\"\n",
    "    # Create pairs of eigenvalues and eigenvectors\n",
    "    eig_pairs = [(np.abs(eig_vals[i]), eig_vecs[:, i]) for i in range(len(eig_vals))]\n",
    "    \n",
    "    # Sort pairs by eigenvalue magnitude in descending order\n",
    "    eig_pairs.sort(key=lambda x: x[0], reverse=True)\n",
    "    \n",
    "    return eig_pairs\n",
    "\n",
    "sorted_eig_pairs = sort_eigenvalues_and_vectors(eigenvalues, eigenvectors)\n",
    "\n",
    "# Display eigenvalues in descending order with formatted output\n",
    "print('Eigenvalues in descending order:')\n",
    "for index, (eigenvalue, eigenvector) in enumerate(sorted_eig_pairs, start=1):\n",
    "    print(f\"Eigenvalue {index}: {eigenvalue:.6f}\")"
   ]
  },
  {
   "cell_type": "code",
   "execution_count": 20,
   "id": "86b6991d-10ef-4731-8bd8-caee5ad6169d",
   "metadata": {
    "include-cell-in-app": true
   },
   "outputs": [
    {
     "name": "stdout",
     "output_type": "stream",
     "text": [
      "Variance captured by each component is \n",
      " [0.9433136348823695, 0.04369465558451634, 0.01299170953311425]\n",
      "=================================================================\n",
      "Variance captured along each component is \n",
      " [0.94331363 0.98700829 1.        ]\n"
     ]
    }
   ],
   "source": [
    "def calculate_variance_explained(eigenvalues: list[float]) -> tuple[list[float], list[float]]:\n",
    "    \"\"\"\n",
    "    Calculate the percentage of variance explained by each principal component\n",
    "    and the cumulative variance explained.\n",
    "    \n",
    "    Args:\n",
    "        eigenvalues: List of eigenvalues from PCA\n",
    "        \n",
    "    Returns:\n",
    "        tuple: (variance_explained, cumulative_variance_explained)\n",
    "            - variance_explained: Percentage of variance explained by each component\n",
    "            - cumulative_variance_explained: Cumulative percentage of variance explained\n",
    "    \"\"\"\n",
    "    total_variance = sum(eigenvalues)\n",
    "    # Sort eigenvalues in descending order and calculate percentage variance\n",
    "    sorted_eigenvalues = sorted(eigenvalues, reverse=True)\n",
    "    variance_explained = [(value / total_variance) for value in sorted_eigenvalues]\n",
    "    # Calculate cumulative variance explained\n",
    "    cumulative_variance_explained = np.cumsum(variance_explained)\n",
    "    \n",
    "    return variance_explained, cumulative_variance_explained\n",
    "\n",
    "# Calculate variance explained metrics\n",
    "variance_explained, cumulative_variance_explained = calculate_variance_explained(eigenvalues)\n",
    "\n",
    "# Display results\n",
    "print('Variance captured by each component is \\n', variance_explained)\n",
    "print(65 * '=')\n",
    "print('Variance captured along each component is \\n', cumulative_variance_explained)"
   ]
  },
  {
   "cell_type": "code",
   "execution_count": 22,
   "id": "4e2d25f8-a121-43cd-9e9c-57b1308a36d2",
   "metadata": {
    "include-cell-in-app": true
   },
   "outputs": [
    {
     "name": "stdout",
     "output_type": "stream",
     "text": [
      "The 1st principal component is [ 0.73710077  0.67080628 -0.08186196] with 0.94331 as principal value\n",
      "====================================================================================================\n",
      "The 2nd principal component is [ 0.55870615 -0.67306027 -0.48460016] with 0.04369 as principal value\n",
      "====================================================================================================\n",
      "The 3rd principal component is [ 0.38017086 -0.31146237  0.87089684] with 0.01299 as principal value\n",
      "====================================================================================================\n",
      "The dot product between the 1st and 2nd component is 0.0000000000\n",
      "-------------------------------------------------------------------\n",
      "The dot product between the 1st and 3rd component is -0.0000000000\n",
      "-------------------------------------------------------------------\n",
      "The dot product between the 2nd and 3rd component is 0.0000000000\n",
      "-------------------------------------------------------------------\n"
     ]
    }
   ],
   "source": [
    "# Print information about each principal component\n",
    "for i in range(len(eigenvectors)):\n",
    "    print(f'The {i+1}{\"st\" if i==0 else \"nd\" if i==1 else \"rd\" if i==2 else \"th\"} '\n",
    "          f'principal component is {eigenvectors[i]} with {variance_explained[i]:.5f} as principal value'\n",
    "         )\n",
    "    print('='*100)\n",
    "\n",
    "# Calculate and print dot products between components\n",
    "dot_products = [np.dot(x, y) for x, y in itertools.combinations(eigenvectors[:len(eigenvectors)], 2)]\n",
    "\n",
    "# Print dot products between components\n",
    "combinations = list(itertools.combinations(range(1, len(eigenvectors)+1), 2))\n",
    "for idx, (i, j) in enumerate(combinations):\n",
    "    ordinal_i = f'{i}{\"st\" if i==1 else \"nd\" if i==2 else \"rd\" if i==3 else \"th\"}'\n",
    "    ordinal_j = f'{j}{\"st\" if j==1 else \"nd\" if j==2 else \"rd\" if j==3 else \"th\"}'\n",
    "        \n",
    "    print(f'The dot product between the {ordinal_i} and {ordinal_j} component is {dot_products[idx]:.10f}')\n",
    "    print('-'*67)"
   ]
  },
  {
   "cell_type": "markdown",
   "id": "8d0d1605-4bd8-4cb9-8373-4adf26bde657",
   "metadata": {
    "include-cell-in-app": true
   },
   "source": [
    "### Plot the principal components"
   ]
  },
  {
   "cell_type": "code",
   "execution_count": 25,
   "id": "4c3bcbdc-a63e-409f-8780-c8632fdf1a92",
   "metadata": {
    "include-cell-in-app": true
   },
   "outputs": [],
   "source": [
    "def create_pca_variance_plot(eigenvectors, variance_explained, figsize=(8, 6)):\n",
    "    \"\"\"\n",
    "    Creates a bar plot showing the explained variance for each principal component.\n",
    "    \n",
    "    Args:\n",
    "        eigenvectors (array-like): The eigenvectors from PCA.\n",
    "        variance_explained (array-like): The explained variance ratio for each component.\n",
    "        figsize (tuple, optional): Figure size as (width, height). Defaults to (8, 6).\n",
    "        \n",
    "    Returns:\n",
    "        tuple: Figure and axes objects for further customization if needed.\n",
    "    \"\"\"\n",
    "    # Create labels for each principal component\n",
    "    labels = [f'PC{i}' for i in range(1, len(eigenvectors) + 1)]\n",
    "    \n",
    "    # Create the bar plot\n",
    "    fig, ax = plt.subplots(figsize=figsize)\n",
    "    \n",
    "    # Set background and plot bars\n",
    "    ax.patch.set_facecolor('lightskyblue')\n",
    "    ax.bar(range(len(eigenvectors)), height=variance_explained, color='blue')\n",
    "    \n",
    "    # Configure x-axis\n",
    "    ax.set_xticks(range(min(3, len(eigenvectors))))\n",
    "    ax.set_xticklabels(labels[:3], fontsize=14, weight='bold')\n",
    "    ax.set_xlabel('Principal Components', fontsize=14, weight='bold')\n",
    "    \n",
    "    # Configure y-axis\n",
    "    ax.set_yticks(ax.get_yticks().tolist())\n",
    "    ax.set_yticklabels([f\"{x:.2%}\" for x in ax.get_yticks()], \n",
    "                       fontsize=11, weight='bold')\n",
    "    ax.set_ylabel('Explained Variance', fontsize=14, weight='bold')\n",
    "    \n",
    "    # Add grid\n",
    "    ax.grid(linestyle=':', linewidth=0.8)\n",
    "    \n",
    "    # Add title\n",
    "    #fig.suptitle('Variance Explained by Each Principal Component',\n",
    "    #             fontsize=16, fontweight='bold',\n",
    "     #            bbox=dict(facecolor='lightgrey',\n",
    "     #                      edgecolor='black',\n",
    "    #                       boxstyle='round,pad=0.6'),\n",
    "     #            y=1.02)\n",
    "    fig.tight_layout()\n",
    "    plt.savefig('PCA.eps')\n",
    "    return fig, ax"
   ]
  },
  {
   "cell_type": "code",
   "execution_count": 27,
   "id": "ef89b5a8-aea9-4823-94ab-430149457194",
   "metadata": {
    "include-cell-in-app": true
   },
   "outputs": [
    {
     "data": {
      "image/png": "[encoded data removed]",
      "text/plain": [
       "<Figure size 800x600 with 1 Axes>"
      ]
     },
     "metadata": {},
     "output_type": "display_data"
    }
   ],
   "source": [
    "fig, ax = create_pca_variance_plot(eigenvectors, variance_explained)\n",
    "plt.show()"
   ]
  },
  {
   "cell_type": "markdown",
   "id": "eb462a5f-6648-4a60-b00e-66226c454da6",
   "metadata": {
    "include-cell-in-app": true
   },
   "source": [
    "# Question 2"
   ]
  },
  {
   "cell_type": "markdown",
   "id": "7fe940ff-4dc3-4aa0-9f72-092d7cb0bd55",
   "metadata": {
    "include-cell-in-app": true
   },
   "source": [
    "### Dowload data from Yahoo finance"
   ]
  },
  {
   "cell_type": "code",
   "execution_count": 31,
   "id": "22780f8e-fd07-4c9e-908f-2825d4262fea",
   "metadata": {
    "include-cell-in-app": true
   },
   "outputs": [],
   "source": [
    "START_DATE = \"2020-01-01\"  # Start date ensuring >1000 daily observations\n",
    "END_DATE = \"2025-09-30\"    # End date for data collection\n",
    "K = 3                       # number of factors (keep = 3 for the assignment)\n",
    "GAMMA = 0.25                # shrinkage weight, must satisfy 0 < GAMMA < 0.5\n",
    "USE_LOG_RETURNS = True      # True: log returns; False: simple returns\n",
    "\n",
    "# Dictionary mapping stock tickers to company names\n",
    "TICKERS = {\n",
    "    \"AAPL\": \"Apple Inc.\",\n",
    "    \"MSFT\": \"Microsoft Corporation\",\n",
    "    \"GOOGL\": \"Alphabet Inc. (Class A)\",\n",
    "    \"AMZN\": \"Amazon.com, Inc.\",\n",
    "    \"META\": \"Meta Platforms, Inc.\",\n",
    "    \"TSLA\": \"Tesla, Inc.\",\n",
    "    \"BRK-B\": \"Berkshire Hathaway Inc. (Class B)\",\n",
    "    \"NVDA\": \"NVIDIA Corporation\",\n",
    "    \"JPM\": \"JPMorgan Chase & Co.\",\n",
    "    \"JNJ\": \"Johnson & Johnson\"\n",
    "}\n",
    "\n",
    "# Extract list of ticker symbols for data retrieval\n",
    "TICKER_LIST = list(TICKERS.keys())"
   ]
  },
  {
   "cell_type": "code",
   "execution_count": 33,
   "id": "2d561dda-40af-4a02-85ed-75ccc6085462",
   "metadata": {
    "include-cell-in-app": true
   },
   "outputs": [],
   "source": [
    "def download_stock_data(tickers: list, start_date: str, end_date: str) -> pd.DataFrame:\n",
    "    \"\"\"\n",
    "    Download daily adjusted stock data for the specified tickers.\n",
    "    \n",
    "    Args:\n",
    "        tickers: List of stock ticker symbols\n",
    "        start_date: Start date in 'YYYY-MM-DD' format\n",
    "        end_date: End date in 'YYYY-MM-DD' format\n",
    "        \n",
    "    Returns:\n",
    "        DataFrame containing the downloaded stock data\n",
    "    \"\"\"\n",
    "    return yf.download(tickers,start=start_date,end=end_date,interval=\"1d\",\n",
    "                       auto_adjust=True,  # Provides dividend & split adjusted OHLC\n",
    "                       group_by=\"ticker\",threads=True,progress=False\n",
    "                      )\n",
    "\n",
    "def extract_adjusted_closing_prices(stock_data: pd.DataFrame) -> pd.DataFrame:\n",
    "    \"\"\"\n",
    "    Extract and clean adjusted closing prices from stock data.\n",
    "    \n",
    "    Args:\n",
    "        stock_data: MultiIndex DataFrame with (ticker, field) structure\n",
    "        \n",
    "    Returns:\n",
    "        DataFrame with adjusted closing prices for all tickers\n",
    "    \"\"\"\n",
    "    # Extract 'Close' slice from MultiIndex\n",
    "    close_prices = stock_data.xs(\"Close\", axis=1, level=1).sort_index()\n",
    "    \n",
    "    # Remove any duplicate indices (keeping first occurrence)\n",
    "    close_prices = close_prices.loc[~close_prices.index.duplicated(keep=\"first\")]\n",
    "    \n",
    "    # Remove rows where all tickers have NaN values\n",
    "    close_prices = close_prices.dropna(how=\"all\")\n",
    "\n",
    "    # Compute returns\n",
    "    returns = close_prices.pct_change().dropna()       # simple returns r_t = (I_t - I_{t-1}) / I_{t-1}\n",
    "    logrets = np.log(close_prices).diff().dropna()     # log returns\n",
    "    \n",
    "    return logrets"
   ]
  },
  {
   "cell_type": "code",
   "execution_count": 35,
   "id": "d26ab564-8d18-4cee-8d8d-9e9cd3fa7b00",
   "metadata": {
    "include-cell-in-app": true
   },
   "outputs": [
    {
     "data": {
      "text/html": [
       "<div>\n",
       "<style scoped>\n",
       "    .dataframe tbody tr th:only-of-type {\n",
       "        vertical-align: middle;\n",
       "    }\n",
       "\n",
       "    .dataframe tbody tr th {\n",
       "        vertical-align: top;\n",
       "    }\n",
       "\n",
       "    .dataframe thead th {\n",
       "        text-align: right;\n",
       "    }\n",
       "</style>\n",
       "<table border=\"1\" class=\"dataframe\">\n",
       "  <thead>\n",
       "    <tr style=\"text-align: right;\">\n",
       "      <th>Ticker</th>\n",
       "      <th>Date</th>\n",
       "      <th>BRK-B</th>\n",
       "      <th>AMZN</th>\n",
       "      <th>MSFT</th>\n",
       "      <th>META</th>\n",
       "      <th>JNJ</th>\n",
       "      <th>JPM</th>\n",
       "      <th>TSLA</th>\n",
       "      <th>NVDA</th>\n",
       "      <th>GOOGL</th>\n",
       "      <th>AAPL</th>\n",
       "    </tr>\n",
       "  </thead>\n",
       "  <tbody>\n",
       "    <tr>\n",
       "      <th>0</th>\n",
       "      <td>2020-01-03</td>\n",
       "      <td>-0.009724</td>\n",
       "      <td>-0.012213</td>\n",
       "      <td>-0.012530</td>\n",
       "      <td>-0.005305</td>\n",
       "      <td>-0.011645</td>\n",
       "      <td>-0.013284</td>\n",
       "      <td>0.029203</td>\n",
       "      <td>-0.016135</td>\n",
       "      <td>-0.005245</td>\n",
       "      <td>-0.009769</td>\n",
       "    </tr>\n",
       "    <tr>\n",
       "      <th>1</th>\n",
       "      <td>2020-01-06</td>\n",
       "      <td>0.003575</td>\n",
       "      <td>0.014776</td>\n",
       "      <td>0.002582</td>\n",
       "      <td>0.018658</td>\n",
       "      <td>-0.001248</td>\n",
       "      <td>-0.000796</td>\n",
       "      <td>0.019072</td>\n",
       "      <td>0.004185</td>\n",
       "      <td>0.026305</td>\n",
       "      <td>0.007936</td>\n",
       "    </tr>\n",
       "    <tr>\n",
       "      <th>2</th>\n",
       "      <td>2020-01-07</td>\n",
       "      <td>-0.004725</td>\n",
       "      <td>0.002089</td>\n",
       "      <td>-0.009160</td>\n",
       "      <td>0.002161</td>\n",
       "      <td>0.006088</td>\n",
       "      <td>-0.017147</td>\n",
       "      <td>0.038067</td>\n",
       "      <td>0.012034</td>\n",
       "      <td>-0.001933</td>\n",
       "      <td>-0.004714</td>\n",
       "    </tr>\n",
       "    <tr>\n",
       "      <th>3</th>\n",
       "      <td>2020-01-08</td>\n",
       "      <td>0.000310</td>\n",
       "      <td>-0.007839</td>\n",
       "      <td>0.015803</td>\n",
       "      <td>0.010087</td>\n",
       "      <td>-0.000138</td>\n",
       "      <td>0.007771</td>\n",
       "      <td>0.048033</td>\n",
       "      <td>0.001874</td>\n",
       "      <td>0.007092</td>\n",
       "      <td>0.015958</td>\n",
       "    </tr>\n",
       "    <tr>\n",
       "      <th>4</th>\n",
       "      <td>2020-01-09</td>\n",
       "      <td>0.011702</td>\n",
       "      <td>0.004788</td>\n",
       "      <td>0.012416</td>\n",
       "      <td>0.014209</td>\n",
       "      <td>0.002962</td>\n",
       "      <td>0.003645</td>\n",
       "      <td>-0.022189</td>\n",
       "      <td>0.010923</td>\n",
       "      <td>0.010443</td>\n",
       "      <td>0.021018</td>\n",
       "    </tr>\n",
       "  </tbody>\n",
       "</table>\n",
       "</div>"
      ],
      "text/plain": [
       "Ticker       Date     BRK-B      AMZN      MSFT      META       JNJ       JPM  \\\n",
       "0      2020-01-03 -0.009724 -0.012213 -0.012530 -0.005305 -0.011645 -0.013284   \n",
       "1      2020-01-06  0.003575  0.014776  0.002582  0.018658 -0.001248 -0.000796   \n",
       "2      2020-01-07 -0.004725  0.002089 -0.009160  0.002161  0.006088 -0.017147   \n",
       "3      2020-01-08  0.000310 -0.007839  0.015803  0.010087 -0.000138  0.007771   \n",
       "4      2020-01-09  0.011702  0.004788  0.012416  0.014209  0.002962  0.003645   \n",
       "\n",
       "Ticker      TSLA      NVDA     GOOGL      AAPL  \n",
       "0       0.029203 -0.016135 -0.005245 -0.009769  \n",
       "1       0.019072  0.004185  0.026305  0.007936  \n",
       "2       0.038067  0.012034 -0.001933 -0.004714  \n",
       "3       0.048033  0.001874  0.007092  0.015958  \n",
       "4      -0.022189  0.010923  0.010443  0.021018  "
      ]
     },
     "execution_count": 35,
     "metadata": {},
     "output_type": "execute_result"
    }
   ],
   "source": [
    "USA_Data = download_stock_data(TICKER_LIST, START_DATE, END_DATE)\n",
    "\n",
    "# Extract adjusted closing prices returns\n",
    "USA_Data_Close = extract_adjusted_closing_prices(USA_Data)\n",
    "USA_Data_Close = USA_Data_Close.reset_index()\n",
    "USA_Data_Close.head()"
   ]
  },
  {
   "cell_type": "code",
   "execution_count": 36,
   "id": "5d08b09e-b5de-4f09-88ee-4dade0904382",
   "metadata": {
    "include-cell-in-app": true
   },
   "outputs": [],
   "source": [
    "## Export the dataframe to excel file \n",
    "USA_Data_Close.to_excel('USAStocksReturns.xlsx',index=False)"
   ]
  },
  {
   "cell_type": "markdown",
   "id": "23cb8157-6dcb-4c5f-b2ec-d31b8b133281",
   "metadata": {
    "include-cell-in-app": true
   },
   "source": [
    "## Load the exported file"
   ]
  },
  {
   "cell_type": "code",
   "execution_count": 38,
   "id": "17c5c447-383c-463b-be6a-4068a78fcb82",
   "metadata": {
    "include-cell-in-app": true
   },
   "outputs": [
    {
     "data": {
      "text/html": [
       "<div>\n",
       "<style scoped>\n",
       "    .dataframe tbody tr th:only-of-type {\n",
       "        vertical-align: middle;\n",
       "    }\n",
       "\n",
       "    .dataframe tbody tr th {\n",
       "        vertical-align: top;\n",
       "    }\n",
       "\n",
       "    .dataframe thead th {\n",
       "        text-align: right;\n",
       "    }\n",
       "</style>\n",
       "<table border=\"1\" class=\"dataframe\">\n",
       "  <thead>\n",
       "    <tr style=\"text-align: right;\">\n",
       "      <th></th>\n",
       "      <th>BRK-B</th>\n",
       "      <th>AMZN</th>\n",
       "      <th>MSFT</th>\n",
       "      <th>META</th>\n",
       "      <th>JNJ</th>\n",
       "      <th>JPM</th>\n",
       "      <th>TSLA</th>\n",
       "      <th>NVDA</th>\n",
       "      <th>GOOGL</th>\n",
       "      <th>AAPL</th>\n",
       "    </tr>\n",
       "    <tr>\n",
       "      <th>Date</th>\n",
       "      <th></th>\n",
       "      <th></th>\n",
       "      <th></th>\n",
       "      <th></th>\n",
       "      <th></th>\n",
       "      <th></th>\n",
       "      <th></th>\n",
       "      <th></th>\n",
       "      <th></th>\n",
       "      <th></th>\n",
       "    </tr>\n",
       "  </thead>\n",
       "  <tbody>\n",
       "    <tr>\n",
       "      <th>2020-01-03</th>\n",
       "      <td>-0.009724</td>\n",
       "      <td>-0.012213</td>\n",
       "      <td>-0.012530</td>\n",
       "      <td>-0.005305</td>\n",
       "      <td>-0.011645</td>\n",
       "      <td>-0.013284</td>\n",
       "      <td>0.029203</td>\n",
       "      <td>-0.016135</td>\n",
       "      <td>-0.005245</td>\n",
       "      <td>-0.009769</td>\n",
       "    </tr>\n",
       "    <tr>\n",
       "      <th>2020-01-06</th>\n",
       "      <td>0.003575</td>\n",
       "      <td>0.014776</td>\n",
       "      <td>0.002582</td>\n",
       "      <td>0.018658</td>\n",
       "      <td>-0.001248</td>\n",
       "      <td>-0.000796</td>\n",
       "      <td>0.019072</td>\n",
       "      <td>0.004185</td>\n",
       "      <td>0.026305</td>\n",
       "      <td>0.007936</td>\n",
       "    </tr>\n",
       "    <tr>\n",
       "      <th>2020-01-07</th>\n",
       "      <td>-0.004725</td>\n",
       "      <td>0.002089</td>\n",
       "      <td>-0.009160</td>\n",
       "      <td>0.002161</td>\n",
       "      <td>0.006088</td>\n",
       "      <td>-0.017147</td>\n",
       "      <td>0.038067</td>\n",
       "      <td>0.012034</td>\n",
       "      <td>-0.001933</td>\n",
       "      <td>-0.004714</td>\n",
       "    </tr>\n",
       "    <tr>\n",
       "      <th>2020-01-08</th>\n",
       "      <td>0.000310</td>\n",
       "      <td>-0.007839</td>\n",
       "      <td>0.015803</td>\n",
       "      <td>0.010087</td>\n",
       "      <td>-0.000138</td>\n",
       "      <td>0.007771</td>\n",
       "      <td>0.048033</td>\n",
       "      <td>0.001874</td>\n",
       "      <td>0.007092</td>\n",
       "      <td>0.015958</td>\n",
       "    </tr>\n",
       "    <tr>\n",
       "      <th>2020-01-09</th>\n",
       "      <td>0.011702</td>\n",
       "      <td>0.004788</td>\n",
       "      <td>0.012416</td>\n",
       "      <td>0.014209</td>\n",
       "      <td>0.002962</td>\n",
       "      <td>0.003645</td>\n",
       "      <td>-0.022189</td>\n",
       "      <td>0.010923</td>\n",
       "      <td>0.010443</td>\n",
       "      <td>0.021018</td>\n",
       "    </tr>\n",
       "  </tbody>\n",
       "</table>\n",
       "</div>"
      ],
      "text/plain": [
       "               BRK-B      AMZN      MSFT      META       JNJ       JPM  \\\n",
       "Date                                                                     \n",
       "2020-01-03 -0.009724 -0.012213 -0.012530 -0.005305 -0.011645 -0.013284   \n",
       "2020-01-06  0.003575  0.014776  0.002582  0.018658 -0.001248 -0.000796   \n",
       "2020-01-07 -0.004725  0.002089 -0.009160  0.002161  0.006088 -0.017147   \n",
       "2020-01-08  0.000310 -0.007839  0.015803  0.010087 -0.000138  0.007771   \n",
       "2020-01-09  0.011702  0.004788  0.012416  0.014209  0.002962  0.003645   \n",
       "\n",
       "                TSLA      NVDA     GOOGL      AAPL  \n",
       "Date                                                \n",
       "2020-01-03  0.029203 -0.016135 -0.005245 -0.009769  \n",
       "2020-01-06  0.019072  0.004185  0.026305  0.007936  \n",
       "2020-01-07  0.038067  0.012034 -0.001933 -0.004714  \n",
       "2020-01-08  0.048033  0.001874  0.007092  0.015958  \n",
       "2020-01-09 -0.022189  0.010923  0.010443  0.021018  "
      ]
     },
     "execution_count": 38,
     "metadata": {},
     "output_type": "execute_result"
    }
   ],
   "source": [
    "USA_Data = pd.read_excel('USAStocksReturns.xlsx')\n",
    "USA_Data = USA_Data.set_index('Date')\n",
    "USA_Data.head()"
   ]
  },
  {
   "cell_type": "code",
   "execution_count": 39,
   "id": "6eae8d93-536d-4473-8ecd-38ae36172d8a",
   "metadata": {
    "include-cell-in-app": true
   },
   "outputs": [
    {
     "data": {
      "text/html": [
       "<div>\n",
       "<style scoped>\n",
       "    .dataframe tbody tr th:only-of-type {\n",
       "        vertical-align: middle;\n",
       "    }\n",
       "\n",
       "    .dataframe tbody tr th {\n",
       "        vertical-align: top;\n",
       "    }\n",
       "\n",
       "    .dataframe thead th {\n",
       "        text-align: right;\n",
       "    }\n",
       "</style>\n",
       "<table border=\"1\" class=\"dataframe\">\n",
       "  <thead>\n",
       "    <tr style=\"text-align: right;\">\n",
       "      <th></th>\n",
       "      <th>GOOGL</th>\n",
       "      <th>MSFT</th>\n",
       "      <th>JPM</th>\n",
       "      <th>TSLA</th>\n",
       "      <th>AMZN</th>\n",
       "      <th>NVDA</th>\n",
       "    </tr>\n",
       "    <tr>\n",
       "      <th>Date</th>\n",
       "      <th></th>\n",
       "      <th></th>\n",
       "      <th></th>\n",
       "      <th></th>\n",
       "      <th></th>\n",
       "      <th></th>\n",
       "    </tr>\n",
       "  </thead>\n",
       "  <tbody>\n",
       "    <tr>\n",
       "      <th>2020-01-03</th>\n",
       "      <td>-0.005245</td>\n",
       "      <td>-0.012530</td>\n",
       "      <td>-0.013284</td>\n",
       "      <td>0.029203</td>\n",
       "      <td>-0.012213</td>\n",
       "      <td>-0.016135</td>\n",
       "    </tr>\n",
       "    <tr>\n",
       "      <th>2020-01-06</th>\n",
       "      <td>0.026305</td>\n",
       "      <td>0.002582</td>\n",
       "      <td>-0.000796</td>\n",
       "      <td>0.019072</td>\n",
       "      <td>0.014776</td>\n",
       "      <td>0.004185</td>\n",
       "    </tr>\n",
       "    <tr>\n",
       "      <th>2020-01-07</th>\n",
       "      <td>-0.001933</td>\n",
       "      <td>-0.009160</td>\n",
       "      <td>-0.017147</td>\n",
       "      <td>0.038067</td>\n",
       "      <td>0.002089</td>\n",
       "      <td>0.012034</td>\n",
       "    </tr>\n",
       "    <tr>\n",
       "      <th>2020-01-08</th>\n",
       "      <td>0.007092</td>\n",
       "      <td>0.015803</td>\n",
       "      <td>0.007771</td>\n",
       "      <td>0.048033</td>\n",
       "      <td>-0.007839</td>\n",
       "      <td>0.001874</td>\n",
       "    </tr>\n",
       "    <tr>\n",
       "      <th>2020-01-09</th>\n",
       "      <td>0.010443</td>\n",
       "      <td>0.012416</td>\n",
       "      <td>0.003645</td>\n",
       "      <td>-0.022189</td>\n",
       "      <td>0.004788</td>\n",
       "      <td>0.010923</td>\n",
       "    </tr>\n",
       "  </tbody>\n",
       "</table>\n",
       "</div>"
      ],
      "text/plain": [
       "               GOOGL      MSFT       JPM      TSLA      AMZN      NVDA\n",
       "Date                                                                  \n",
       "2020-01-03 -0.005245 -0.012530 -0.013284  0.029203 -0.012213 -0.016135\n",
       "2020-01-06  0.026305  0.002582 -0.000796  0.019072  0.014776  0.004185\n",
       "2020-01-07 -0.001933 -0.009160 -0.017147  0.038067  0.002089  0.012034\n",
       "2020-01-08  0.007092  0.015803  0.007771  0.048033 -0.007839  0.001874\n",
       "2020-01-09  0.010443  0.012416  0.003645 -0.022189  0.004788  0.010923"
      ]
     },
     "execution_count": 39,
     "metadata": {},
     "output_type": "execute_result"
    }
   ],
   "source": [
    "stock_names_selected = ['GOOGL', 'MSFT', 'JPM', 'TSLA', 'AMZN', 'NVDA']\n",
    "USA_Data = USA_Data[stock_names_selected]\n",
    "USA_Data.head()"
   ]
  },
  {
   "cell_type": "markdown",
   "id": "54ca6972-cf9f-4975-a157-610bb2c385dc",
   "metadata": {
    "include-cell-in-app": true
   },
   "source": [
    "### Split the data into train and test"
   ]
  },
  {
   "cell_type": "code",
   "execution_count": 41,
   "id": "22bcdce2-3e8e-4163-8c1c-3a88dea5e295",
   "metadata": {
    "include-cell-in-app": true
   },
   "outputs": [],
   "source": [
    "def split_data(data: pd.DataFrame, months_for_test: int = 3) -> tuple[pd.DataFrame, pd.DataFrame]:\n",
    "    \"\"\"\n",
    "    Split a time series DataFrame into training and testing sets based on date.\n",
    "    \n",
    "    Args:\n",
    "        data (pd.DataFrame): DataFrame containing a 'Date' column\n",
    "        months_for_test (int, optional): Number of months to include in test set. Defaults to 3.\n",
    "    \n",
    "    Returns:\n",
    "        tuple[pd.DataFrame, pd.DataFrame]: Training and testing DataFrames\n",
    "    \"\"\"\n",
    "    last_date = data.index.max()\n",
    "    cutoff_date = (last_date - pd.DateOffset(months=months_for_test)).normalize()\n",
    "    \n",
    "    test_data = data.loc[data.index > cutoff_date]  # Recent data for testing (3 months)\n",
    "    train_data = data.loc[data.index <= cutoff_date]  # Earlier data for training\n",
    "    \n",
    "    return train_data, test_data\n",
    "\n",
    "# Split the data into training and testing sets\n",
    "TrainData, TestData = split_data(USA_Data)"
   ]
  },
  {
   "cell_type": "code",
   "execution_count": 43,
   "id": "032772de-ce87-4f0d-8d89-e666bb5ae1a9",
   "metadata": {
    "include-cell-in-app": true
   },
   "outputs": [
    {
     "data": {
      "text/html": [
       "<div>\n",
       "<style scoped>\n",
       "    .dataframe tbody tr th:only-of-type {\n",
       "        vertical-align: middle;\n",
       "    }\n",
       "\n",
       "    .dataframe tbody tr th {\n",
       "        vertical-align: top;\n",
       "    }\n",
       "\n",
       "    .dataframe thead th {\n",
       "        text-align: right;\n",
       "    }\n",
       "</style>\n",
       "<table border=\"1\" class=\"dataframe\">\n",
       "  <thead>\n",
       "    <tr style=\"text-align: right;\">\n",
       "      <th></th>\n",
       "      <th>GOOGL</th>\n",
       "      <th>MSFT</th>\n",
       "      <th>JPM</th>\n",
       "      <th>TSLA</th>\n",
       "      <th>AMZN</th>\n",
       "      <th>NVDA</th>\n",
       "    </tr>\n",
       "    <tr>\n",
       "      <th>Date</th>\n",
       "      <th></th>\n",
       "      <th></th>\n",
       "      <th></th>\n",
       "      <th></th>\n",
       "      <th></th>\n",
       "      <th></th>\n",
       "    </tr>\n",
       "  </thead>\n",
       "  <tbody>\n",
       "    <tr>\n",
       "      <th>2020-01-03</th>\n",
       "      <td>-0.005245</td>\n",
       "      <td>-0.012530</td>\n",
       "      <td>-0.013284</td>\n",
       "      <td>0.029203</td>\n",
       "      <td>-0.012213</td>\n",
       "      <td>-0.016135</td>\n",
       "    </tr>\n",
       "    <tr>\n",
       "      <th>2020-01-06</th>\n",
       "      <td>0.026305</td>\n",
       "      <td>0.002582</td>\n",
       "      <td>-0.000796</td>\n",
       "      <td>0.019072</td>\n",
       "      <td>0.014776</td>\n",
       "      <td>0.004185</td>\n",
       "    </tr>\n",
       "    <tr>\n",
       "      <th>2020-01-07</th>\n",
       "      <td>-0.001933</td>\n",
       "      <td>-0.009160</td>\n",
       "      <td>-0.017147</td>\n",
       "      <td>0.038067</td>\n",
       "      <td>0.002089</td>\n",
       "      <td>0.012034</td>\n",
       "    </tr>\n",
       "    <tr>\n",
       "      <th>2020-01-08</th>\n",
       "      <td>0.007092</td>\n",
       "      <td>0.015803</td>\n",
       "      <td>0.007771</td>\n",
       "      <td>0.048033</td>\n",
       "      <td>-0.007839</td>\n",
       "      <td>0.001874</td>\n",
       "    </tr>\n",
       "    <tr>\n",
       "      <th>2020-01-09</th>\n",
       "      <td>0.010443</td>\n",
       "      <td>0.012416</td>\n",
       "      <td>0.003645</td>\n",
       "      <td>-0.022189</td>\n",
       "      <td>0.004788</td>\n",
       "      <td>0.010923</td>\n",
       "    </tr>\n",
       "  </tbody>\n",
       "</table>\n",
       "</div>"
      ],
      "text/plain": [
       "               GOOGL      MSFT       JPM      TSLA      AMZN      NVDA\n",
       "Date                                                                  \n",
       "2020-01-03 -0.005245 -0.012530 -0.013284  0.029203 -0.012213 -0.016135\n",
       "2020-01-06  0.026305  0.002582 -0.000796  0.019072  0.014776  0.004185\n",
       "2020-01-07 -0.001933 -0.009160 -0.017147  0.038067  0.002089  0.012034\n",
       "2020-01-08  0.007092  0.015803  0.007771  0.048033 -0.007839  0.001874\n",
       "2020-01-09  0.010443  0.012416  0.003645 -0.022189  0.004788  0.010923"
      ]
     },
     "execution_count": 43,
     "metadata": {},
     "output_type": "execute_result"
    }
   ],
   "source": [
    "TrainData.head()"
   ]
  },
  {
   "cell_type": "markdown",
   "id": "aaf797ee-8176-4912-bd1a-57c209863d87",
   "metadata": {
    "include-cell-in-app": true
   },
   "source": [
    "#### Compute the covariance matrix from the Train Data"
   ]
  },
  {
   "cell_type": "code",
   "execution_count": 46,
   "id": "96a4c324-d5ca-481b-a9d9-826412fbb986",
   "metadata": {
    "include-cell-in-app": true
   },
   "outputs": [
    {
     "name": "stdout",
     "output_type": "stream",
     "text": [
      "The covariance matrix is\n"
     ]
    },
    {
     "data": {
      "text/html": [
       "<div>\n",
       "<style scoped>\n",
       "    .dataframe tbody tr th:only-of-type {\n",
       "        vertical-align: middle;\n",
       "    }\n",
       "\n",
       "    .dataframe tbody tr th {\n",
       "        vertical-align: top;\n",
       "    }\n",
       "\n",
       "    .dataframe thead th {\n",
       "        text-align: right;\n",
       "    }\n",
       "</style>\n",
       "<table border=\"1\" class=\"dataframe\">\n",
       "  <thead>\n",
       "    <tr style=\"text-align: right;\">\n",
       "      <th></th>\n",
       "      <th>GOOGL</th>\n",
       "      <th>MSFT</th>\n",
       "      <th>JPM</th>\n",
       "      <th>TSLA</th>\n",
       "      <th>AMZN</th>\n",
       "      <th>NVDA</th>\n",
       "    </tr>\n",
       "  </thead>\n",
       "  <tbody>\n",
       "    <tr>\n",
       "      <th>GOOGL</th>\n",
       "      <td>0.000422</td>\n",
       "      <td>0.000278</td>\n",
       "      <td>0.000168</td>\n",
       "      <td>0.000368</td>\n",
       "      <td>0.000298</td>\n",
       "      <td>0.000407</td>\n",
       "    </tr>\n",
       "    <tr>\n",
       "      <th>MSFT</th>\n",
       "      <td>0.000278</td>\n",
       "      <td>0.000356</td>\n",
       "      <td>0.000164</td>\n",
       "      <td>0.000365</td>\n",
       "      <td>0.000288</td>\n",
       "      <td>0.000434</td>\n",
       "    </tr>\n",
       "    <tr>\n",
       "      <th>JPM</th>\n",
       "      <td>0.000168</td>\n",
       "      <td>0.000164</td>\n",
       "      <td>0.000398</td>\n",
       "      <td>0.000261</td>\n",
       "      <td>0.000137</td>\n",
       "      <td>0.000235</td>\n",
       "    </tr>\n",
       "    <tr>\n",
       "      <th>TSLA</th>\n",
       "      <td>0.000368</td>\n",
       "      <td>0.000365</td>\n",
       "      <td>0.000261</td>\n",
       "      <td>0.001788</td>\n",
       "      <td>0.000428</td>\n",
       "      <td>0.000689</td>\n",
       "    </tr>\n",
       "    <tr>\n",
       "      <th>AMZN</th>\n",
       "      <td>0.000298</td>\n",
       "      <td>0.000288</td>\n",
       "      <td>0.000137</td>\n",
       "      <td>0.000428</td>\n",
       "      <td>0.000510</td>\n",
       "      <td>0.000447</td>\n",
       "    </tr>\n",
       "    <tr>\n",
       "      <th>NVDA</th>\n",
       "      <td>0.000407</td>\n",
       "      <td>0.000434</td>\n",
       "      <td>0.000235</td>\n",
       "      <td>0.000689</td>\n",
       "      <td>0.000447</td>\n",
       "      <td>0.001137</td>\n",
       "    </tr>\n",
       "  </tbody>\n",
       "</table>\n",
       "</div>"
      ],
      "text/plain": [
       "          GOOGL      MSFT       JPM      TSLA      AMZN      NVDA\n",
       "GOOGL  0.000422  0.000278  0.000168  0.000368  0.000298  0.000407\n",
       "MSFT   0.000278  0.000356  0.000164  0.000365  0.000288  0.000434\n",
       "JPM    0.000168  0.000164  0.000398  0.000261  0.000137  0.000235\n",
       "TSLA   0.000368  0.000365  0.000261  0.001788  0.000428  0.000689\n",
       "AMZN   0.000298  0.000288  0.000137  0.000428  0.000510  0.000447\n",
       "NVDA   0.000407  0.000434  0.000235  0.000689  0.000447  0.001137"
      ]
     },
     "execution_count": 46,
     "metadata": {},
     "output_type": "execute_result"
    }
   ],
   "source": [
    "def calculate_covariance_matrix(data: np.ndarray) -> np.ndarray:\n",
    "    \"\"\"\n",
    "    Calculate the covariance matrix for the given data.\n",
    "    \n",
    "    Args:\n",
    "        data (np.ndarray): The input data array, assumed to be scaled.\n",
    "        \n",
    "    Returns:\n",
    "        np.ndarray: The calculated covariance matrix.\n",
    "    \"\"\"\n",
    "    # Calculate the mean along each feature (column)\n",
    "    mean_vector = np.mean(data, axis=0)\n",
    "    \n",
    "    # Calculate the covariance matrix using the formula:\n",
    "    # cov = (1/(n-1)) * (X - mean)^T * (X - mean)\n",
    "    n_samples = data.shape[0]\n",
    "    centered_data = data - mean_vector\n",
    "    covariance_matrix = (1/(n_samples-1)) * centered_data.T.dot(centered_data)\n",
    "    \n",
    "    return covariance_matrix\n",
    "\n",
    "# Calculate the covariance matrix for USA_scaled data\n",
    "covariance_USA = calculate_covariance_matrix(USA_Data)\n",
    "print('The covariance matrix is')\n",
    "covariance_USA"
   ]
  },
  {
   "cell_type": "code",
   "execution_count": 47,
   "id": "abc39a1b-afa9-4b7d-a5e9-67c9d30ad66a",
   "metadata": {
    "include-cell-in-app": true
   },
   "outputs": [],
   "source": [
    "def pca_from_cov(S: Union[np.ndarray, pd.DataFrame], k: int = 3) -> Tuple[np.ndarray, np.ndarray, np.ndarray, float]:\n",
    "    \"\"\"\n",
    "    Perform PCA \"Manually\" on a covariance matrix via eigen-decomposition.\n",
    "    \n",
    "    Args:\n",
    "        S (np.ndarray or pd.DataFrame): Covariance matrix (n x n), symmetric.\n",
    "        k (int): Number of leading components to keep. Default is 3.\n",
    "    \n",
    "    Returns:\n",
    "        Tuple containing:\n",
    "            np.ndarray: Top-k eigenvalues in descending order.\n",
    "            np.ndarray: Corresponding eigenvectors (n x k; columns are PCs).\n",
    "            np.ndarray: Explained variance ratios for the top-k PCs.\n",
    "            float: Total variance (trace of S).\n",
    "    \n",
    "    Notes:\n",
    "        Uses numpy.linalg.eigh for symmetric matrices, then sorts in descending order.\n",
    "    \"\"\"\n",
    "    # Convert input to numpy array if it's not already\n",
    "    S = np.asarray(S)\n",
    "    \n",
    "    # Ensure matrix is symmetric by averaging with its transpose\n",
    "    S_symmetric = (S + S.T) / 2.0\n",
    "    \n",
    "    # Compute eigenvalues and eigenvectors\n",
    "    eigenvalues, eigenvectors = np.linalg.eigh(S_symmetric)\n",
    "    \n",
    "    # Sort eigenvalues and eigenvectors in descending order\n",
    "    idx = np.argsort(eigenvalues)[::-1]\n",
    "    sorted_eigenvalues = eigenvalues[idx]\n",
    "    sorted_eigenvectors = eigenvectors[:, idx]\n",
    "    \n",
    "    # Calculate total variance and explained variance ratio\n",
    "    total_variance = float(np.trace(S_symmetric))\n",
    "    \n",
    "    # Avoid division by zero\n",
    "    if total_variance > 0:\n",
    "        explained_variance_ratio = sorted_eigenvalues / total_variance\n",
    "    else:\n",
    "        explained_variance_ratio = np.zeros_like(sorted_eigenvalues)\n",
    "    \n",
    "    return (sorted_eigenvalues[:k], sorted_eigenvectors[:, :k], explained_variance_ratio[:k],total_variance)"
   ]
  },
  {
   "cell_type": "code",
   "execution_count": 52,
   "id": "a437a024-3844-47a6-835b-df55d0481c5e",
   "metadata": {
    "include-cell-in-app": true
   },
   "outputs": [
    {
     "name": "stdout",
     "output_type": "stream",
     "text": [
      "=================================================================\n",
      "Top 3 eigenvalues: [0.00284482 0.00085046 0.00036064]\n",
      "=================================================================\n",
      "Explained variance ratios: [0.61705229 0.184467   0.07822443]\n",
      "=================================================================\n",
      "Total variance: 0.00461034153646114\n",
      "=================================================================\n",
      "Cumulative explained variance: 0.8797\n",
      "=================================================================\n"
     ]
    }
   ],
   "source": [
    "# Apply PCA using the function\n",
    "k = 3  # Number of principal components to keep\n",
    "eigenvalues, eigenvectors, explained_variance_ratio, total_variance = pca_from_cov(covariance_USA, k)\n",
    "\n",
    "# 3. Analyze the results\n",
    "print(65*'=')\n",
    "print(f\"Top {k} eigenvalues: {eigenvalues}\")\n",
    "print(65*'=')\n",
    "print(f\"Explained variance ratios: {explained_variance_ratio}\")\n",
    "print(65*'=')\n",
    "print(f\"Total variance: {total_variance}\")\n",
    "print(65*'=')\n",
    "print(f\"Cumulative explained variance: {np.sum(explained_variance_ratio):.4f}\")\n",
    "print(65*'=')"
   ]
  },
  {
   "cell_type": "markdown",
   "id": "c729bb21-7cbd-496a-9613-6e101fefc775",
   "metadata": {
    "include-cell-in-app": true
   },
   "source": [
    "## (a) Building a Three Fatcor Model"
   ]
  },
  {
   "cell_type": "code",
   "execution_count": 57,
   "id": "1ed59991-26c5-463f-aa2e-89fe6b791c58",
   "metadata": {
    "include-cell-in-app": true
   },
   "outputs": [],
   "source": [
    "def factor_scores(X_df, V):\n",
    "    '''\n",
    "    Purpose:\n",
    "       Project asset returns onto the PC loadings to get factor return series.\n",
    "    Inputs:\n",
    "       X_df (DataFrame): returns (T x n).\n",
    "       V (ndarray): eigenvectors (n x k), columns are principal directions.\n",
    "    Returns:\n",
    "       DataFrame or ndarray (T x k): factor returns F = X V.\n",
    "    Notes:\n",
    "       You typically wrap the result into a DataFrame with factor column names.    \n",
    "    '''\n",
    "    F = X_df @ V\n",
    "    F.columns = [f\"F{j+1}\" for j in range(V.shape[1])]\n",
    "    \n",
    "    return  pd.DataFrame(F)"
   ]
  },
  {
   "cell_type": "code",
   "execution_count": 59,
   "id": "957e3df7-0724-4cc3-b5ef-947fdbf4af78",
   "metadata": {
    "include-cell-in-app": true
   },
   "outputs": [
    {
     "data": {
      "text/html": [
       "<div>\n",
       "<style scoped>\n",
       "    .dataframe tbody tr th:only-of-type {\n",
       "        vertical-align: middle;\n",
       "    }\n",
       "\n",
       "    .dataframe tbody tr th {\n",
       "        vertical-align: top;\n",
       "    }\n",
       "\n",
       "    .dataframe thead th {\n",
       "        text-align: right;\n",
       "    }\n",
       "</style>\n",
       "<table border=\"1\" class=\"dataframe\">\n",
       "  <thead>\n",
       "    <tr style=\"text-align: right;\">\n",
       "      <th></th>\n",
       "      <th>F1</th>\n",
       "      <th>F2</th>\n",
       "      <th>F3</th>\n",
       "    </tr>\n",
       "    <tr>\n",
       "      <th>Date</th>\n",
       "      <th></th>\n",
       "      <th></th>\n",
       "      <th></th>\n",
       "    </tr>\n",
       "  </thead>\n",
       "  <tbody>\n",
       "    <tr>\n",
       "      <th>2020-01-03</th>\n",
       "      <td>-0.000987</td>\n",
       "      <td>-0.038614</td>\n",
       "      <td>0.007613</td>\n",
       "    </tr>\n",
       "    <tr>\n",
       "      <th>2020-01-06</th>\n",
       "      <td>-0.027355</td>\n",
       "      <td>-0.000725</td>\n",
       "      <td>-0.010228</td>\n",
       "    </tr>\n",
       "    <tr>\n",
       "      <th>2020-01-07</th>\n",
       "      <td>-0.026940</td>\n",
       "      <td>-0.025533</td>\n",
       "      <td>0.021648</td>\n",
       "    </tr>\n",
       "    <tr>\n",
       "      <th>2020-01-08</th>\n",
       "      <td>-0.039058</td>\n",
       "      <td>-0.029220</td>\n",
       "      <td>-0.004895</td>\n",
       "    </tr>\n",
       "    <tr>\n",
       "      <th>2020-01-09</th>\n",
       "      <td>0.001406</td>\n",
       "      <td>0.029142</td>\n",
       "      <td>-0.004289</td>\n",
       "    </tr>\n",
       "  </tbody>\n",
       "</table>\n",
       "</div>"
      ],
      "text/plain": [
       "                  F1        F2        F3\n",
       "Date                                    \n",
       "2020-01-03 -0.000987 -0.038614  0.007613\n",
       "2020-01-06 -0.027355 -0.000725 -0.010228\n",
       "2020-01-07 -0.026940 -0.025533  0.021648\n",
       "2020-01-08 -0.039058 -0.029220 -0.004895\n",
       "2020-01-09  0.001406  0.029142 -0.004289"
      ]
     },
     "execution_count": 59,
     "metadata": {},
     "output_type": "execute_result"
    }
   ],
   "source": [
    "Factor_Loadings = factor_scores(TrainData, eigenvectors)\n",
    "Factor_Loadings.head()"
   ]
  },
  {
   "cell_type": "markdown",
   "id": "908b88ce-6771-4a50-a2b2-38b05b38a64d",
   "metadata": {
    "include-cell-in-app": true
   },
   "source": [
    "We estimate a $3$-factor model on Data Set 1 using the following formula:\n",
    "\\begin{equation}\n",
    "\tR_{i}  = \\alpha_i + \\sum_{j=1}^{3} \\beta_{i}^{j} {F_j} \\;+\\; \\varepsilon_{i},\n",
    "\\end{equation}\n",
    "where $R_{i}\\in\\mathbb{R}^n$ are asset returns os asset $i$, $F_{j}$ are the factor (component) vectors."
   ]
  },
  {
   "cell_type": "code",
   "execution_count": 62,
   "id": "fffc6052-68e8-4478-9aa7-257651b8dc33",
   "metadata": {
    "include-cell-in-app": true
   },
   "outputs": [],
   "source": [
    "def fit_factor_ts_regs(R_train: pd.DataFrame,F_train: pd.DataFrame, robust: str = \"HC3\"):\n",
    "    \"\"\"\n",
    "    Fit r_i,t = alpha_i + beta_i' F_t + eps_i,t for each asset i by OLS.\n",
    "    Returns:\n",
    "      coefs_df: rows=assets, cols=['alpha','F1',...,'FK']\n",
    "      stats_df: rows=assets, cols=['R2','AdjR2','sigma','DW','AIC','BIC']\n",
    "      se_df:    robust std errors for the coefficients (same shape as coefs_df)\n",
    "    \"\"\"\n",
    "    # Align on dates\n",
    "    R = R_train.copy()\n",
    "    F = F_train.copy()\n",
    "    idx = R.index.intersection(F.index)\n",
    "    R, F = R.loc[idx], F.loc[idx]\n",
    "    # Regressors with intercept\n",
    "    X = sm.add_constant(F)           # columns: ['const','F1','F2','F3',...]\n",
    "    coef_rows, se_rows, stat_rows = [], [], []\n",
    "    asset_names = []\n",
    "    for asset in R.columns:\n",
    "        y = R[asset].values\n",
    "        model = sm.OLS(y, X.values)\n",
    "        res = model.fit(cov_type=robust)  \n",
    "        # Collect\n",
    "        cols = ['alpha'] + list(F.columns)  # rename const -> alpha\n",
    "        coef = np.r_[res.params[0], res.params[1:]]\n",
    "        se   = np.r_[res.bse[0],    res.bse[1:]]\n",
    "        coef_rows.append(coef)\n",
    "        se_rows.append(se)\n",
    "        # Quick stats\n",
    "        dw = sm.stats.stattools.durbin_watson(res.resid)\n",
    "        stat_rows.append([res.rsquared, res.rsquared_adj, res.scale**0.5, dw, res.aic, res.bic])\n",
    "        asset_names.append(asset)\n",
    "\n",
    "    coefs_df = pd.DataFrame(coef_rows, index=asset_names, columns=['alpha'] + list(F.columns))\n",
    "    se_df    = pd.DataFrame(se_rows,    index=asset_names, columns=['alpha'] + list(F.columns))\n",
    "    stats_df = pd.DataFrame(stat_rows,  index=asset_names,\n",
    "                            columns=['R2','AdjR2','sigma','DW','AIC','BIC'])\n",
    "    return coefs_df, se_df, stats_df"
   ]
  },
  {
   "cell_type": "code",
   "execution_count": 64,
   "id": "c121672d-a6b1-4f79-bcd0-4523596102e6",
   "metadata": {
    "include-cell-in-app": true
   },
   "outputs": [
    {
     "data": {
      "text/html": [
       "<div>\n",
       "<style scoped>\n",
       "    .dataframe tbody tr th:only-of-type {\n",
       "        vertical-align: middle;\n",
       "    }\n",
       "\n",
       "    .dataframe tbody tr th {\n",
       "        vertical-align: top;\n",
       "    }\n",
       "\n",
       "    .dataframe thead th {\n",
       "        text-align: right;\n",
       "    }\n",
       "</style>\n",
       "<table border=\"1\" class=\"dataframe\">\n",
       "  <thead>\n",
       "    <tr style=\"text-align: right;\">\n",
       "      <th></th>\n",
       "      <th>alpha</th>\n",
       "      <th>F1</th>\n",
       "      <th>F2</th>\n",
       "      <th>F3</th>\n",
       "    </tr>\n",
       "  </thead>\n",
       "  <tbody>\n",
       "    <tr>\n",
       "      <th>GOOGL</th>\n",
       "      <td>-0.000102</td>\n",
       "      <td>-0.269655</td>\n",
       "      <td>0.256426</td>\n",
       "      <td>-0.357336</td>\n",
       "    </tr>\n",
       "    <tr>\n",
       "      <th>MSFT</th>\n",
       "      <td>-0.000021</td>\n",
       "      <td>-0.267975</td>\n",
       "      <td>0.248054</td>\n",
       "      <td>-0.204516</td>\n",
       "    </tr>\n",
       "    <tr>\n",
       "      <th>JPM</th>\n",
       "      <td>0.000348</td>\n",
       "      <td>-0.175846</td>\n",
       "      <td>0.113859</td>\n",
       "      <td>-0.622509</td>\n",
       "    </tr>\n",
       "    <tr>\n",
       "      <th>TSLA</th>\n",
       "      <td>-0.000001</td>\n",
       "      <td>-0.686255</td>\n",
       "      <td>-0.725348</td>\n",
       "      <td>0.047967</td>\n",
       "    </tr>\n",
       "    <tr>\n",
       "      <th>AMZN</th>\n",
       "      <td>-0.000322</td>\n",
       "      <td>-0.301684</td>\n",
       "      <td>0.247856</td>\n",
       "      <td>-0.273126</td>\n",
       "    </tr>\n",
       "    <tr>\n",
       "      <th>NVDA</th>\n",
       "      <td>0.000137</td>\n",
       "      <td>-0.512441</td>\n",
       "      <td>0.521732</td>\n",
       "      <td>0.605143</td>\n",
       "    </tr>\n",
       "  </tbody>\n",
       "</table>\n",
       "</div>"
      ],
      "text/plain": [
       "          alpha        F1        F2        F3\n",
       "GOOGL -0.000102 -0.269655  0.256426 -0.357336\n",
       "MSFT  -0.000021 -0.267975  0.248054 -0.204516\n",
       "JPM    0.000348 -0.175846  0.113859 -0.622509\n",
       "TSLA  -0.000001 -0.686255 -0.725348  0.047967\n",
       "AMZN  -0.000322 -0.301684  0.247856 -0.273126\n",
       "NVDA   0.000137 -0.512441  0.521732  0.605143"
      ]
     },
     "execution_count": 64,
     "metadata": {},
     "output_type": "execute_result"
    }
   ],
   "source": [
    "coefs_df, se_df, stats_df = fit_factor_ts_regs(TrainData,Factor_Loadings)\n",
    "coefs_df"
   ]
  },
  {
   "cell_type": "code",
   "execution_count": 66,
   "id": "8b462e92-86cf-4b0e-b05a-cdd5ec7b931b",
   "metadata": {
    "include-cell-in-app": true
   },
   "outputs": [
    {
     "data": {
      "text/html": [
       "<div>\n",
       "<style scoped>\n",
       "    .dataframe tbody tr th:only-of-type {\n",
       "        vertical-align: middle;\n",
       "    }\n",
       "\n",
       "    .dataframe tbody tr th {\n",
       "        vertical-align: top;\n",
       "    }\n",
       "\n",
       "    .dataframe thead th {\n",
       "        text-align: right;\n",
       "    }\n",
       "</style>\n",
       "<table border=\"1\" class=\"dataframe\">\n",
       "  <thead>\n",
       "    <tr style=\"text-align: right;\">\n",
       "      <th></th>\n",
       "      <th>GOOGL</th>\n",
       "      <th>MSFT</th>\n",
       "      <th>JPM</th>\n",
       "      <th>TSLA</th>\n",
       "      <th>AMZN</th>\n",
       "      <th>NVDA</th>\n",
       "    </tr>\n",
       "    <tr>\n",
       "      <th>Date</th>\n",
       "      <th></th>\n",
       "      <th></th>\n",
       "      <th></th>\n",
       "      <th></th>\n",
       "      <th></th>\n",
       "      <th></th>\n",
       "    </tr>\n",
       "  </thead>\n",
       "  <tbody>\n",
       "    <tr>\n",
       "      <th>2020-01-03</th>\n",
       "      <td>-0.012285</td>\n",
       "      <td>-0.010866</td>\n",
       "      <td>-0.008904</td>\n",
       "      <td>0.029053</td>\n",
       "      <td>-0.011510</td>\n",
       "      <td>-0.015004</td>\n",
       "    </tr>\n",
       "    <tr>\n",
       "      <th>2020-01-06</th>\n",
       "      <td>0.010914</td>\n",
       "      <td>0.009179</td>\n",
       "      <td>0.011022</td>\n",
       "      <td>0.018808</td>\n",
       "      <td>0.010937</td>\n",
       "      <td>0.007430</td>\n",
       "    </tr>\n",
       "    <tr>\n",
       "      <th>2020-01-07</th>\n",
       "      <td>-0.007027</td>\n",
       "      <td>-0.003512</td>\n",
       "      <td>-0.011494</td>\n",
       "      <td>0.038048</td>\n",
       "      <td>-0.004326</td>\n",
       "      <td>0.013645</td>\n",
       "    </tr>\n",
       "    <tr>\n",
       "      <th>2020-01-08</th>\n",
       "      <td>0.004919</td>\n",
       "      <td>0.004147</td>\n",
       "      <td>0.006556</td>\n",
       "      <td>0.047767</td>\n",
       "      <td>0.005836</td>\n",
       "      <td>0.001809</td>\n",
       "    </tr>\n",
       "    <tr>\n",
       "      <th>2020-01-09</th>\n",
       "      <td>0.008566</td>\n",
       "      <td>0.007731</td>\n",
       "      <td>0.005707</td>\n",
       "      <td>-0.022310</td>\n",
       "      <td>0.008080</td>\n",
       "      <td>0.011869</td>\n",
       "    </tr>\n",
       "  </tbody>\n",
       "</table>\n",
       "</div>"
      ],
      "text/plain": [
       "               GOOGL      MSFT       JPM      TSLA      AMZN      NVDA\n",
       "Date                                                                  \n",
       "2020-01-03 -0.012285 -0.010866 -0.008904  0.029053 -0.011510 -0.015004\n",
       "2020-01-06  0.010914  0.009179  0.011022  0.018808  0.010937  0.007430\n",
       "2020-01-07 -0.007027 -0.003512 -0.011494  0.038048 -0.004326  0.013645\n",
       "2020-01-08  0.004919  0.004147  0.006556  0.047767  0.005836  0.001809\n",
       "2020-01-09  0.008566  0.007731  0.005707 -0.022310  0.008080  0.011869"
      ]
     },
     "execution_count": 66,
     "metadata": {},
     "output_type": "execute_result"
    }
   ],
   "source": [
    "def reconstruct_returns(F_df, V,stock_names):\n",
    "    ''' \n",
    "    Purpose:\n",
    "        Reconstruct returns from factors & loadings (low-rank approx).\n",
    "    Inputs:\n",
    "        F_df (DataFrame/ndarray): factor returns (T x k).\n",
    "        V (ndarray): loadings (n x k).\n",
    "    Returns:\n",
    "        DataFrame or ndarray (T x n): reconstructed returns X_hat = F V^T.\n",
    "    Notes:\n",
    "        Useful for in-sample fit checks and OOS projection quality.\n",
    "    '''\n",
    "\n",
    "    Xhat = F_df @ V.T\n",
    "    Xhat.columns = TrainData.columns\n",
    "    return  pd.DataFrame(Xhat)\n",
    "TrainReturns = reconstruct_returns(Factor_Loadings,eigenvectors,stock_names_selected)\n",
    "TrainReturns.head()"
   ]
  },
  {
   "cell_type": "markdown",
   "id": "f3d20a96-3e4e-4b48-932d-6ddb3b980f21",
   "metadata": {
    "include-cell-in-app": true
   },
   "source": [
    "## Evaluate the Perfomance of the 3-Factor Model"
   ]
  },
  {
   "cell_type": "code",
   "execution_count": 69,
   "id": "0869c1d4-eb7b-4043-85ca-12ff1bb6f088",
   "metadata": {
    "include-cell-in-app": true
   },
   "outputs": [],
   "source": [
    "def oos_metrics(X_true, X_hat):\n",
    "    R = (X_true - X_hat).to_numpy()\n",
    "    sse = float(np.sum(R * R))\n",
    "    S = X_true.to_numpy()\n",
    "    sst = float(np.sum(S * S))\n",
    "    r2 = (1.0 - sse/sst) if sst > 0 else np.nan\n",
    "    rmse = float(np.sqrt(np.mean(R * R)))\n",
    "    # per-asset R^2\n",
    "    r2_cols = {}\n",
    "    for col in X_true.columns:\n",
    "        e = (X_true[col] - X_hat[col]).to_numpy()\n",
    "        sse_c = float(np.sum(e * e))\n",
    "        sst_c = float(np.sum(X_true[col].to_numpy() ** 2))\n",
    "        r2_cols[col] = (1.0 - sse_c/sst_c) if sst_c > 0 else np.nan\n",
    "    return r2, rmse, pd.Series(r2_cols, name=\"R2_per_asset\")"
   ]
  },
  {
   "cell_type": "code",
   "execution_count": 71,
   "id": "66e71e2d-6d95-4a9e-bbbf-22fe8226efee",
   "metadata": {
    "include-cell-in-app": true
   },
   "outputs": [
    {
     "data": {
      "text/plain": [
       "0.882235582505915"
      ]
     },
     "execution_count": 71,
     "metadata": {},
     "output_type": "execute_result"
    }
   ],
   "source": [
    "r2_overall_train, rmse_train, r2_per_asset_train = oos_metrics(TrainData, TrainReturns)\n",
    "r2_overall_train"
   ]
  },
  {
   "cell_type": "code",
   "execution_count": 73,
   "id": "a3bed647-7eca-4122-9961-11cb90d52f10",
   "metadata": {
    "include-cell-in-app": true
   },
   "outputs": [
    {
     "data": {
      "text/plain": [
       "GOOGL    0.744058\n",
       "MSFT     0.765234\n",
       "JPM      0.594846\n",
       "TSLA     0.999954\n",
       "AMZN     0.673930\n",
       "NVDA     0.977666\n",
       "Name: R2_per_asset, dtype: float64"
      ]
     },
     "execution_count": 73,
     "metadata": {},
     "output_type": "execute_result"
    }
   ],
   "source": [
    "r2_per_asset_train"
   ]
  },
  {
   "cell_type": "markdown",
   "id": "c8c4728c-885d-4be5-b257-dbfd08418ed5",
   "metadata": {
    "include-cell-in-app": true
   },
   "source": [
    "## (b) Commonality between the assets"
   ]
  },
  {
   "cell_type": "code",
   "execution_count": 76,
   "id": "6a46f69e-0f29-408a-ba45-b8710a710545",
   "metadata": {
    "include-cell-in-app": true
   },
   "outputs": [],
   "source": [
    "def top_loadings_table(V, cols, topn=3):\n",
    "    tbl = {}\n",
    "    for j in range(V.shape[1]):\n",
    "        v = pd.Series(V[:, j], index=cols).sort_values(ascending=False)\n",
    "        tbl[f\"F{j+1}_top_pos\"] = list(v.head(topn).index)\n",
    "        tbl[f\"F{j+1}_top_neg\"] = list(v.tail(topn).index)\n",
    "    return pd.DataFrame.from_dict(tbl, orient=\"index\")"
   ]
  },
  {
   "cell_type": "code",
   "execution_count": 78,
   "id": "37537923-b79f-4db7-af21-d51f9ae9fcee",
   "metadata": {
    "include-cell-in-app": true
   },
   "outputs": [
    {
     "data": {
      "text/html": [
       "<div>\n",
       "<style scoped>\n",
       "    .dataframe tbody tr th:only-of-type {\n",
       "        vertical-align: middle;\n",
       "    }\n",
       "\n",
       "    .dataframe tbody tr th {\n",
       "        vertical-align: top;\n",
       "    }\n",
       "\n",
       "    .dataframe thead th {\n",
       "        text-align: right;\n",
       "    }\n",
       "</style>\n",
       "<table border=\"1\" class=\"dataframe\">\n",
       "  <thead>\n",
       "    <tr style=\"text-align: right;\">\n",
       "      <th></th>\n",
       "      <th>0</th>\n",
       "      <th>1</th>\n",
       "      <th>2</th>\n",
       "    </tr>\n",
       "  </thead>\n",
       "  <tbody>\n",
       "    <tr>\n",
       "      <th>F1_top_pos</th>\n",
       "      <td>JPM</td>\n",
       "      <td>MSFT</td>\n",
       "      <td>GOOGL</td>\n",
       "    </tr>\n",
       "    <tr>\n",
       "      <th>F1_top_neg</th>\n",
       "      <td>AMZN</td>\n",
       "      <td>NVDA</td>\n",
       "      <td>TSLA</td>\n",
       "    </tr>\n",
       "    <tr>\n",
       "      <th>F2_top_pos</th>\n",
       "      <td>NVDA</td>\n",
       "      <td>GOOGL</td>\n",
       "      <td>AMZN</td>\n",
       "    </tr>\n",
       "    <tr>\n",
       "      <th>F2_top_neg</th>\n",
       "      <td>MSFT</td>\n",
       "      <td>JPM</td>\n",
       "      <td>TSLA</td>\n",
       "    </tr>\n",
       "    <tr>\n",
       "      <th>F3_top_pos</th>\n",
       "      <td>NVDA</td>\n",
       "      <td>TSLA</td>\n",
       "      <td>MSFT</td>\n",
       "    </tr>\n",
       "    <tr>\n",
       "      <th>F3_top_neg</th>\n",
       "      <td>AMZN</td>\n",
       "      <td>GOOGL</td>\n",
       "      <td>JPM</td>\n",
       "    </tr>\n",
       "  </tbody>\n",
       "</table>\n",
       "</div>"
      ],
      "text/plain": [
       "               0      1      2\n",
       "F1_top_pos   JPM   MSFT  GOOGL\n",
       "F1_top_neg  AMZN   NVDA   TSLA\n",
       "F2_top_pos  NVDA  GOOGL   AMZN\n",
       "F2_top_neg  MSFT    JPM   TSLA\n",
       "F3_top_pos  NVDA   TSLA   MSFT\n",
       "F3_top_neg  AMZN  GOOGL    JPM"
      ]
     },
     "execution_count": 78,
     "metadata": {},
     "output_type": "execute_result"
    }
   ],
   "source": [
    "tops = top_loadings_table(eigenvectors, TrainData.columns, topn=3)\n",
    "tops"
   ]
  },
  {
   "cell_type": "code",
   "execution_count": 80,
   "id": "26b83721-a9cd-4b46-a6a3-c522aa263bee",
   "metadata": {
    "include-cell-in-app": true
   },
   "outputs": [],
   "source": [
    "def render_interpretation(loadings: pd.DataFrame, top_table: pd.DataFrame, evr: list | None = None) -> str:\n",
    "    \"\"\"\n",
    "    Build a concise, report-ready paragraph per factor using top +/- lists and a simple label heuristic.\n",
    "    \"\"\"\n",
    "    lines = []\n",
    "    m = min(3, loadings.shape[1])\n",
    "    for j in range(1, m+1):\n",
    "        pc = f\"F{j}\"\n",
    "        # Top lists\n",
    "        pos = \", \".join(top_table.loc[f\"F{j}_top_pos\"])\n",
    "        neg = \", \".join(top_table.loc[f\"F{j}_top_neg\"])\n",
    "        # Heuristic label\n",
    "        label = \"Market-like\" if is_market_like_factor(loadings[pc]) else \"Contrast/theme\"\n",
    "        evr_text = f\" (explains ~{100*evr[j-1]:.1f}% of variance)\" if (evr is not None and len(evr) >= j) else \"\"\n",
    "        # Paragraph\n",
    "        lines.append(\n",
    "            f\"Factor {j} ({pc}){evr_text}: \"\n",
    "            f\"highest positive loadings on [{pos}] and highest negative loadings on [{neg}]. \"\n",
    "            f\"This pattern suggests a **{label}** factor: assets on the positive side tend to move together, \"\n",
    "            f\"while those on the negative side move in the opposite direction. \"\n",
    "        )\n",
    "    return \"\\n\\n\".join(lines)\n",
    "\n",
    "def is_market_like_factor(weights: pd.Series, threshold: float = 0.8) -> bool:\n",
    "    \"\"\"\n",
    "    Heuristic: if ≥ threshold of loadings share the same sign, call it 'market-like'.\n",
    "    Returns True/False.\n",
    "    \"\"\"\n",
    "    pos_ratio = (weights > 0).mean()\n",
    "    neg_ratio = (weights < 0).mean()\n",
    "    return (pos_ratio >= threshold) or (neg_ratio >= threshold)"
   ]
  },
  {
   "cell_type": "code",
   "execution_count": 82,
   "id": "7f62b380-544f-4f25-b0f5-d21f5c3a70b9",
   "metadata": {
    "include-cell-in-app": true
   },
   "outputs": [
    {
     "data": {
      "text/plain": [
       "'Factor 1 (F1) (explains ~61.7% of variance): highest positive loadings on [JPM, MSFT, GOOGL] and highest negative loadings on [AMZN, NVDA, TSLA]. This pattern suggests a **Contrast/theme** factor: assets on the positive side tend to move together, while those on the negative side move in the opposite direction. \\n\\nFactor 2 (F2) (explains ~18.4% of variance): highest positive loadings on [NVDA, GOOGL, AMZN] and highest negative loadings on [MSFT, JPM, TSLA]. This pattern suggests a **Contrast/theme** factor: assets on the positive side tend to move together, while those on the negative side move in the opposite direction. \\n\\nFactor 3 (F3) (explains ~7.8% of variance): highest positive loadings on [NVDA, TSLA, MSFT] and highest negative loadings on [AMZN, GOOGL, JPM]. This pattern suggests a **Contrast/theme** factor: assets on the positive side tend to move together, while those on the negative side move in the opposite direction. '"
      ]
     },
     "execution_count": 82,
     "metadata": {},
     "output_type": "execute_result"
    }
   ],
   "source": [
    "# Create interpretation text\n",
    "text = render_interpretation(Factor_Loadings, tops, evr=explained_variance_ratio)\n",
    "text"
   ]
  },
  {
   "cell_type": "markdown",
   "id": "e027ca06-874f-43be-821d-9a0e0e47cee0",
   "metadata": {
    "include-cell-in-app": true
   },
   "source": [
    "## (c) Variance is explained by the first principal component"
   ]
  },
  {
   "cell_type": "code",
   "execution_count": 85,
   "id": "e1dce5b9-af66-4d9a-910f-2a77536e6772",
   "metadata": {
    "include-cell-in-app": true
   },
   "outputs": [
    {
     "name": "stderr",
     "output_type": "stream",
     "text": [
      "The PostScript backend does not support transparency; partially transparent artists will be rendered opaque.\n"
     ]
    },
    {
     "data": {
      "image/png": "[encoded data removed]",
      "text/plain": [
       "<Figure size 800x600 with 1 Axes>"
      ]
     },
     "metadata": {},
     "output_type": "display_data"
    },
    {
     "data": {
      "text/plain": [
       "(<Figure size 800x600 with 1 Axes>,\n",
       " <Axes: xlabel='Principal Components', ylabel='Explained Variance'>)"
      ]
     },
     "execution_count": 85,
     "metadata": {},
     "output_type": "execute_result"
    }
   ],
   "source": [
    "def create_scree_plot(explained_variance_ratio: list, figsize: tuple = (8, 6), save_path: str = 'PCAStocks.eps') -> tuple:\n",
    "    \"\"\"\n",
    "    Creates a scree plot to visualize explained variance from PCA components.\n",
    "    \n",
    "    Args:\n",
    "        explained_variance_ratio (list): List of explained variance ratios for each principal component\n",
    "        figsize (tuple, optional): Figure size as (width, height). Defaults to (8, 6).\n",
    "        save_path (str, optional): Path to save the figure. Defaults to 'PCAStocks.eps'.\n",
    "    \n",
    "    Returns:\n",
    "        tuple: Figure and axes objects (fig, ax)\n",
    "    \"\"\"\n",
    "    # Create labels and x-range for plotting\n",
    "    n_components = len(explained_variance_ratio)\n",
    "    x_range = range(0, n_components)\n",
    "    labels = [f'PC{i+1}' for i in range(n_components)]\n",
    "    \n",
    "    # Create figure and axis\n",
    "    fig, ax = plt.subplots(figsize=figsize)\n",
    "    \n",
    "    # Style the plot\n",
    "    ax.patch.set_facecolor('lightskyblue')\n",
    "    \n",
    "    # Plot the individual variance bars\n",
    "    ax.bar(x_range, height=explained_variance_ratio, color='blue')\n",
    "    \n",
    "    # Plot the cumulative variance line\n",
    "    plt.plot(x_range, np.cumsum(explained_variance_ratio), 'ro-', \n",
    "             label='Cumulative Variance Explained')\n",
    "    \n",
    "    # Configure x-axis\n",
    "    ax.set_xticks(x_range)\n",
    "    ax.set_xticklabels(labels, fontsize=14, weight='bold')\n",
    "    ax.set_xlabel('Principal Components', fontsize=14, weight='bold')\n",
    "    \n",
    "    # Configure y-axis\n",
    "    ticks_loc = ax.get_yticks().tolist()\n",
    "    ax.set_yticks(ticks_loc)\n",
    "    ax.set_yticklabels([f\"{x:.2%}\" for x in ticks_loc], fontsize=11, weight='bold')\n",
    "    ax.set_ylabel('Explained Variance', fontsize=14, weight='bold')\n",
    "    \n",
    "    # Add grid and legend\n",
    "    plt.grid(linestyle=':', linewidth=0.8)\n",
    "    plt.legend(loc='upper left')\n",
    "    \n",
    "    # Save and show the plot\n",
    "    plt.savefig(save_path)\n",
    "    plt.show()\n",
    "    \n",
    "    return fig, ax\n",
    "\n",
    "create_scree_plot(explained_variance_ratio)"
   ]
  },
  {
   "cell_type": "markdown",
   "id": "ed0c288d-cbcf-45a9-af7d-3b16ae9a60db",
   "metadata": {
    "include-cell-in-app": true
   },
   "source": [
    "## (d) Comparison of terurns in 2025 against previous years"
   ]
  },
  {
   "cell_type": "code",
   "execution_count": 88,
   "id": "bfedbb4e-536c-4355-ab02-cdef75638925",
   "metadata": {
    "include-cell-in-app": true
   },
   "outputs": [],
   "source": [
    "def summarize_by_year(F):\n",
    "    yr = F.copy()\n",
    "    yr[\"year\"] = yr.index.year\n",
    "    means = yr.groupby(\"year\").mean().drop(columns=[], errors=\"ignore\")\n",
    "    vols  = yr.groupby(\"year\").std(ddof=1).drop(columns=[], errors=\"ignore\")\n",
    "    cums  = yr.groupby(\"year\").sum()          # simple cumulative sum proxy\n",
    "    return means, vols, cums"
   ]
  },
  {
   "cell_type": "code",
   "execution_count": 90,
   "id": "b8b5a46d-1ef9-4c43-b549-2e7407ba8b4f",
   "metadata": {
    "include-cell-in-app": true
   },
   "outputs": [],
   "source": [
    "means_by_year, vols_by_year, cums_by_year = summarize_by_year(Factor_Loadings)"
   ]
  },
  {
   "cell_type": "code",
   "execution_count": 92,
   "id": "8b3867e7-d3d7-4e30-ae7b-97872cab8a31",
   "metadata": {
    "include-cell-in-app": true
   },
   "outputs": [
    {
     "data": {
      "text/html": [
       "<div>\n",
       "<style scoped>\n",
       "    .dataframe tbody tr th:only-of-type {\n",
       "        vertical-align: middle;\n",
       "    }\n",
       "\n",
       "    .dataframe tbody tr th {\n",
       "        vertical-align: top;\n",
       "    }\n",
       "\n",
       "    .dataframe thead th {\n",
       "        text-align: right;\n",
       "    }\n",
       "</style>\n",
       "<table border=\"1\" class=\"dataframe\">\n",
       "  <thead>\n",
       "    <tr style=\"text-align: right;\">\n",
       "      <th></th>\n",
       "      <th>F1</th>\n",
       "      <th>F2</th>\n",
       "      <th>F3</th>\n",
       "    </tr>\n",
       "    <tr>\n",
       "      <th>year</th>\n",
       "      <th></th>\n",
       "      <th></th>\n",
       "      <th></th>\n",
       "    </tr>\n",
       "  </thead>\n",
       "  <tbody>\n",
       "    <tr>\n",
       "      <th>2020</th>\n",
       "      <td>-0.008535</td>\n",
       "      <td>-0.003358</td>\n",
       "      <td>0.001225</td>\n",
       "    </tr>\n",
       "    <tr>\n",
       "      <th>2021</th>\n",
       "      <td>-0.003938</td>\n",
       "      <td>0.001576</td>\n",
       "      <td>0.000354</td>\n",
       "    </tr>\n",
       "    <tr>\n",
       "      <th>2022</th>\n",
       "      <td>0.006102</td>\n",
       "      <td>0.000013</td>\n",
       "      <td>0.000183</td>\n",
       "    </tr>\n",
       "    <tr>\n",
       "      <th>2023</th>\n",
       "      <td>-0.006319</td>\n",
       "      <td>0.002148</td>\n",
       "      <td>0.000745</td>\n",
       "    </tr>\n",
       "    <tr>\n",
       "      <th>2024</th>\n",
       "      <td>-0.004507</td>\n",
       "      <td>0.001627</td>\n",
       "      <td>0.000655</td>\n",
       "    </tr>\n",
       "    <tr>\n",
       "      <th>2025</th>\n",
       "      <td>0.000009</td>\n",
       "      <td>0.002463</td>\n",
       "      <td>-0.000404</td>\n",
       "    </tr>\n",
       "  </tbody>\n",
       "</table>\n",
       "</div>"
      ],
      "text/plain": [
       "            F1        F2        F3\n",
       "year                              \n",
       "2020 -0.008535 -0.003358  0.001225\n",
       "2021 -0.003938  0.001576  0.000354\n",
       "2022  0.006102  0.000013  0.000183\n",
       "2023 -0.006319  0.002148  0.000745\n",
       "2024 -0.004507  0.001627  0.000655\n",
       "2025  0.000009  0.002463 -0.000404"
      ]
     },
     "execution_count": 92,
     "metadata": {},
     "output_type": "execute_result"
    }
   ],
   "source": [
    "means_by_year"
   ]
  },
  {
   "cell_type": "code",
   "execution_count": 94,
   "id": "dda8603e-a307-44f7-b111-9ac4d29f6721",
   "metadata": {
    "include-cell-in-app": true
   },
   "outputs": [
    {
     "data": {
      "text/html": [
       "<div>\n",
       "<style scoped>\n",
       "    .dataframe tbody tr th:only-of-type {\n",
       "        vertical-align: middle;\n",
       "    }\n",
       "\n",
       "    .dataframe tbody tr th {\n",
       "        vertical-align: top;\n",
       "    }\n",
       "\n",
       "    .dataframe thead th {\n",
       "        text-align: right;\n",
       "    }\n",
       "</style>\n",
       "<table border=\"1\" class=\"dataframe\">\n",
       "  <thead>\n",
       "    <tr style=\"text-align: right;\">\n",
       "      <th></th>\n",
       "      <th>F1</th>\n",
       "      <th>F2</th>\n",
       "      <th>F3</th>\n",
       "    </tr>\n",
       "    <tr>\n",
       "      <th>year</th>\n",
       "      <th></th>\n",
       "      <th></th>\n",
       "      <th></th>\n",
       "    </tr>\n",
       "  </thead>\n",
       "  <tbody>\n",
       "    <tr>\n",
       "      <th>2020</th>\n",
       "      <td>0.069562</td>\n",
       "      <td>0.037072</td>\n",
       "      <td>0.024208</td>\n",
       "    </tr>\n",
       "    <tr>\n",
       "      <th>2021</th>\n",
       "      <td>0.039745</td>\n",
       "      <td>0.024351</td>\n",
       "      <td>0.016011</td>\n",
       "    </tr>\n",
       "    <tr>\n",
       "      <th>2022</th>\n",
       "      <td>0.063916</td>\n",
       "      <td>0.028649</td>\n",
       "      <td>0.017317</td>\n",
       "    </tr>\n",
       "    <tr>\n",
       "      <th>2023</th>\n",
       "      <td>0.041874</td>\n",
       "      <td>0.025055</td>\n",
       "      <td>0.016982</td>\n",
       "    </tr>\n",
       "    <tr>\n",
       "      <th>2024</th>\n",
       "      <td>0.042550</td>\n",
       "      <td>0.030779</td>\n",
       "      <td>0.020455</td>\n",
       "    </tr>\n",
       "    <tr>\n",
       "      <th>2025</th>\n",
       "      <td>0.063975</td>\n",
       "      <td>0.027990</td>\n",
       "      <td>0.019054</td>\n",
       "    </tr>\n",
       "  </tbody>\n",
       "</table>\n",
       "</div>"
      ],
      "text/plain": [
       "            F1        F2        F3\n",
       "year                              \n",
       "2020  0.069562  0.037072  0.024208\n",
       "2021  0.039745  0.024351  0.016011\n",
       "2022  0.063916  0.028649  0.017317\n",
       "2023  0.041874  0.025055  0.016982\n",
       "2024  0.042550  0.030779  0.020455\n",
       "2025  0.063975  0.027990  0.019054"
      ]
     },
     "execution_count": 94,
     "metadata": {},
     "output_type": "execute_result"
    }
   ],
   "source": [
    "vols_by_year"
   ]
  },
  {
   "cell_type": "code",
   "execution_count": 96,
   "id": "298c83e0-59e3-4adc-843e-c489e87310b7",
   "metadata": {
    "include-cell-in-app": true
   },
   "outputs": [
    {
     "data": {
      "text/html": [
       "<div>\n",
       "<style scoped>\n",
       "    .dataframe tbody tr th:only-of-type {\n",
       "        vertical-align: middle;\n",
       "    }\n",
       "\n",
       "    .dataframe tbody tr th {\n",
       "        vertical-align: top;\n",
       "    }\n",
       "\n",
       "    .dataframe thead th {\n",
       "        text-align: right;\n",
       "    }\n",
       "</style>\n",
       "<table border=\"1\" class=\"dataframe\">\n",
       "  <thead>\n",
       "    <tr style=\"text-align: right;\">\n",
       "      <th></th>\n",
       "      <th>F1</th>\n",
       "      <th>F2</th>\n",
       "      <th>F3</th>\n",
       "    </tr>\n",
       "    <tr>\n",
       "      <th>year</th>\n",
       "      <th></th>\n",
       "      <th></th>\n",
       "      <th></th>\n",
       "    </tr>\n",
       "  </thead>\n",
       "  <tbody>\n",
       "    <tr>\n",
       "      <th>2020</th>\n",
       "      <td>-2.150927</td>\n",
       "      <td>-0.846259</td>\n",
       "      <td>0.308578</td>\n",
       "    </tr>\n",
       "    <tr>\n",
       "      <th>2021</th>\n",
       "      <td>-0.992481</td>\n",
       "      <td>0.397094</td>\n",
       "      <td>0.089203</td>\n",
       "    </tr>\n",
       "    <tr>\n",
       "      <th>2022</th>\n",
       "      <td>1.531532</td>\n",
       "      <td>0.003345</td>\n",
       "      <td>0.045962</td>\n",
       "    </tr>\n",
       "    <tr>\n",
       "      <th>2023</th>\n",
       "      <td>-1.579809</td>\n",
       "      <td>0.537039</td>\n",
       "      <td>0.186374</td>\n",
       "    </tr>\n",
       "    <tr>\n",
       "      <th>2024</th>\n",
       "      <td>-1.135664</td>\n",
       "      <td>0.410004</td>\n",
       "      <td>0.165174</td>\n",
       "    </tr>\n",
       "    <tr>\n",
       "      <th>2025</th>\n",
       "      <td>0.001077</td>\n",
       "      <td>0.298003</td>\n",
       "      <td>-0.048833</td>\n",
       "    </tr>\n",
       "  </tbody>\n",
       "</table>\n",
       "</div>"
      ],
      "text/plain": [
       "            F1        F2        F3\n",
       "year                              \n",
       "2020 -2.150927 -0.846259  0.308578\n",
       "2021 -0.992481  0.397094  0.089203\n",
       "2022  1.531532  0.003345  0.045962\n",
       "2023 -1.579809  0.537039  0.186374\n",
       "2024 -1.135664  0.410004  0.165174\n",
       "2025  0.001077  0.298003 -0.048833"
      ]
     },
     "execution_count": 96,
     "metadata": {},
     "output_type": "execute_result"
    }
   ],
   "source": [
    "cums_by_year"
   ]
  },
  {
   "cell_type": "code",
   "execution_count": 98,
   "id": "e186da9f-d219-4caf-9c6f-21de15f1a722",
   "metadata": {
    "include-cell-in-app": true
   },
   "outputs": [],
   "source": [
    "def compare_2025(means_by_year, vols_by_year, year_focus=2025):\n",
    "    rows = []\n",
    "    for f in means_by_year.columns:\n",
    "        # series of yearly means for factor f\n",
    "        series = means_by_year[f].dropna()\n",
    "        if year_focus not in series.index or len(series.index) < 2:\n",
    "            continue\n",
    "        base = series.loc[series.index < year_focus]\n",
    "        mu_2025 = series.loc[year_focus]\n",
    "        mu_base = float(base.mean())\n",
    "        sd_base = float(base.std(ddof=1)) if len(base) > 1 else np.nan\n",
    "        z = (mu_2025 - mu_base) / sd_base if (sd_base is not np.nan and sd_base > 0) else np.nan\n",
    "        pct = 100.0 * (base <= mu_2025).mean()  # percentile of 2025 within past distribution\n",
    "        vol_2025 = vols_by_year[f].get(year_focus, np.nan)\n",
    "        vol_base = float(vols_by_year[f].loc[vols_by_year.index < year_focus].mean())\n",
    "        vol_ratio = vol_2025 / vol_base if (vol_base is not np.nan and vol_base > 0) else np.nan\n",
    "        rows.append([f, mu_2025, mu_base, mu_2025 - mu_base, z, pct, vol_2025, vol_base, vol_ratio])\n",
    "    return pd.DataFrame(rows, columns=[\n",
    "        \"Factor\",\"Mean_2025\",\"Mean_Pre2025\",\"Diff\",\"Zscore\",\"Percentile_vs_Pre\",\n",
    "        \"Vol_2025\",\"Vol_Pre_Avg\",\"Vol_Ratio_2025_to_Pre\"\n",
    "    ])"
   ]
  },
  {
   "cell_type": "code",
   "execution_count": 100,
   "id": "54bc5155-b1aa-4e9d-a5c1-2fd102c75322",
   "metadata": {
    "include-cell-in-app": true
   },
   "outputs": [
    {
     "data": {
      "text/html": [
       "<div>\n",
       "<style scoped>\n",
       "    .dataframe tbody tr th:only-of-type {\n",
       "        vertical-align: middle;\n",
       "    }\n",
       "\n",
       "    .dataframe tbody tr th {\n",
       "        vertical-align: top;\n",
       "    }\n",
       "\n",
       "    .dataframe thead th {\n",
       "        text-align: right;\n",
       "    }\n",
       "</style>\n",
       "<table border=\"1\" class=\"dataframe\">\n",
       "  <thead>\n",
       "    <tr style=\"text-align: right;\">\n",
       "      <th></th>\n",
       "      <th>Factor</th>\n",
       "      <th>Mean_2025</th>\n",
       "      <th>Mean_Pre2025</th>\n",
       "      <th>Diff</th>\n",
       "      <th>Zscore</th>\n",
       "      <th>Percentile_vs_Pre</th>\n",
       "      <th>Vol_2025</th>\n",
       "      <th>Vol_Pre_Avg</th>\n",
       "      <th>Vol_Ratio_2025_to_Pre</th>\n",
       "    </tr>\n",
       "  </thead>\n",
       "  <tbody>\n",
       "    <tr>\n",
       "      <th>0</th>\n",
       "      <td>F1</td>\n",
       "      <td>0.000009</td>\n",
       "      <td>-0.003440</td>\n",
       "      <td>0.003448</td>\n",
       "      <td>0.612771</td>\n",
       "      <td>80.0</td>\n",
       "      <td>0.063975</td>\n",
       "      <td>0.051530</td>\n",
       "      <td>1.241515</td>\n",
       "    </tr>\n",
       "    <tr>\n",
       "      <th>1</th>\n",
       "      <td>F2</td>\n",
       "      <td>0.002463</td>\n",
       "      <td>0.000401</td>\n",
       "      <td>0.002062</td>\n",
       "      <td>0.917014</td>\n",
       "      <td>100.0</td>\n",
       "      <td>0.027990</td>\n",
       "      <td>0.029181</td>\n",
       "      <td>0.959173</td>\n",
       "    </tr>\n",
       "    <tr>\n",
       "      <th>2</th>\n",
       "      <td>F3</td>\n",
       "      <td>-0.000404</td>\n",
       "      <td>0.000633</td>\n",
       "      <td>-0.001036</td>\n",
       "      <td>-2.583575</td>\n",
       "      <td>0.0</td>\n",
       "      <td>0.019054</td>\n",
       "      <td>0.018995</td>\n",
       "      <td>1.003124</td>\n",
       "    </tr>\n",
       "  </tbody>\n",
       "</table>\n",
       "</div>"
      ],
      "text/plain": [
       "  Factor  Mean_2025  Mean_Pre2025      Diff    Zscore  Percentile_vs_Pre  \\\n",
       "0     F1   0.000009     -0.003440  0.003448  0.612771               80.0   \n",
       "1     F2   0.002463      0.000401  0.002062  0.917014              100.0   \n",
       "2     F3  -0.000404      0.000633 -0.001036 -2.583575                0.0   \n",
       "\n",
       "   Vol_2025  Vol_Pre_Avg  Vol_Ratio_2025_to_Pre  \n",
       "0  0.063975     0.051530               1.241515  \n",
       "1  0.027990     0.029181               0.959173  \n",
       "2  0.019054     0.018995               1.003124  "
      ]
     },
     "execution_count": 100,
     "metadata": {},
     "output_type": "execute_result"
    }
   ],
   "source": [
    "cmp_2025 = compare_2025(means_by_year, vols_by_year, year_focus=2025)\n",
    "cmp_2025"
   ]
  },
  {
   "cell_type": "code",
   "execution_count": 184,
   "id": "6f881c34-3978-4a02-93aa-49f8c2015c8d",
   "metadata": {
    "include-cell-in-app": true
   },
   "outputs": [
    {
     "name": "stdout",
     "output_type": "stream",
     "text": [
      "\\begin{tabular}{llrrrrrrrr}\n",
      "\\toprule\n",
      " & Factor & Mean_2025 & Mean_Pre2025 & Diff & Zscore & Percentile_vs_Pre & Vol_2025 & Vol_Pre_Avg & Vol_Ratio_2025_to_Pre \\\\\n",
      "\\midrule\n",
      "0 & F1 & 0.000009 & -0.003440 & 0.003448 & 0.612771 & 80.000000 & 0.063975 & 0.051530 & 1.241515 \\\\\n",
      "1 & F2 & 0.002463 & 0.000401 & 0.002062 & 0.917014 & 100.000000 & 0.027990 & 0.029181 & 0.959173 \\\\\n",
      "2 & F3 & -0.000404 & 0.000633 & -0.001036 & -2.583575 & 0.000000 & 0.019054 & 0.018995 & 1.003124 \\\\\n",
      "\\bottomrule\n",
      "\\end{tabular}\n",
      "\n"
     ]
    }
   ],
   "source": [
    "print(cmp_2025.to_latex())"
   ]
  },
  {
   "cell_type": "code",
   "execution_count": 102,
   "id": "6106e890-9e9c-479d-bb5e-76b12c082002",
   "metadata": {
    "include-cell-in-app": true
   },
   "outputs": [
    {
     "name": "stdout",
     "output_type": "stream",
     "text": [
      "Part (d): Comparing 2025 to earlier years\n",
      "- F1: The 2025 average (0.0000) is higher than the pre-2025 average (-0.0034) by 0.0034 (z=0.61, 80th percentile). Volatility is 1.24× the pre-2025 average.\n",
      "- F2: The 2025 average (0.0025) is higher than the pre-2025 average (0.0004) by 0.0021 (z=0.92, 100th percentile). Volatility is 0.96× the pre-2025 average.\n",
      "- F3: The 2025 average (-0.0004) is lower than the pre-2025 average (0.0006) by -0.0010 (z=-2.58, 0th percentile). Volatility is 1.00× the pre-2025 average.\n"
     ]
    }
   ],
   "source": [
    "# Short, report-ready text\n",
    "YEAR_FOCUS = 2025\n",
    "lines = [f\"Part (d): Comparing {YEAR_FOCUS} to earlier years\"]\n",
    "for _, row in cmp_2025.iterrows():\n",
    "    f = row[\"Factor\"]\n",
    "    mu_25, mu_base, diff, z, pct = row[\"Mean_2025\"], row[\"Mean_Pre2025\"], row[\"Diff\"], row[\"Zscore\"], row[\"Percentile_vs_Pre\"]\n",
    "    vr = row[\"Vol_Ratio_2025_to_Pre\"]\n",
    "    tag = \"higher\" if diff > 0 else \"lower\"\n",
    "    lines.append(\n",
    "        f\"- {f}: The {YEAR_FOCUS} average ({mu_25:.4f}) is {tag} than the pre-{YEAR_FOCUS} average ({mu_base:.4f}) \"\n",
    "        f\"by {diff:.4f} (z={z:.2f}, {pct:.0f}th percentile). \"\n",
    "        f\"Volatility is {vr:.2f}× the pre-{YEAR_FOCUS} average.\"\n",
    "    )\n",
    "print(\"\\n\".join(lines))"
   ]
  },
  {
   "cell_type": "markdown",
   "id": "41bb8ff3-c88e-46e0-a31a-b63ffdcd63ae",
   "metadata": {
    "include-cell-in-app": true
   },
   "source": [
    "## (e) Shrinking method"
   ]
  },
  {
   "cell_type": "code",
   "execution_count": 105,
   "id": "8c9817e6-5b8c-4f1c-862c-b399b26170be",
   "metadata": {
    "include-cell-in-app": true
   },
   "outputs": [],
   "source": [
    "def shrink_cov(S: np.ndarray, gamma: float):\n",
    "    \"\"\"S_sh = (1-γ) S + γ μ I, with μ = tr(S)/n.\"\"\"\n",
    "    n = S.shape[0]\n",
    "    mu = float(np.trace(S)) / n\n",
    "    return (1.0 - gamma) * S + gamma * mu * np.eye(n), mu\n"
   ]
  },
  {
   "cell_type": "code",
   "execution_count": 107,
   "id": "25b1bead-d0e3-4d1d-afed-0592ea8e63c8",
   "metadata": {
    "include-cell-in-app": true
   },
   "outputs": [],
   "source": [
    "# ===== Model 2: PCA on shrinkage covariance =====\n",
    "GAMMA = 0.25        # 0 < GAMMA < 0.5\n",
    "covariance_USA_shrinked, mu = shrink_cov(covariance_USA, GAMMA)\n",
    "eigenvalues_shrinked, eigenvectors_shrinked, explained_variance_ratio_shrinked, total_variance_shrinked = pca_from_cov(covariance_USA_shrinked, k=3)"
   ]
  },
  {
   "cell_type": "code",
   "execution_count": 109,
   "id": "9850da27-70ed-4ff2-8dc1-68b24f69a66e",
   "metadata": {
    "include-cell-in-app": true
   },
   "outputs": [
    {
     "name": "stdout",
     "output_type": "stream",
     "text": [
      "=================================================================\n",
      "Top 3 eigenvalues: [0.00232571 0.00082994 0.00046258]\n",
      "=================================================================\n",
      "Explained variance ratios: [0.50445589 0.18001692 0.10033499]\n",
      "=================================================================\n",
      "Total variance: 0.00461034153646114\n",
      "=================================================================\n",
      "Cumulative explained variance: 0.7848\n",
      "=================================================================\n"
     ]
    }
   ],
   "source": [
    "# 3. Analyze the results\n",
    "print(65*'=')\n",
    "print(f\"Top {k} eigenvalues: {eigenvalues_shrinked}\")\n",
    "print(65*'=')\n",
    "print(f\"Explained variance ratios: {explained_variance_ratio_shrinked}\")\n",
    "print(65*'=')\n",
    "print(f\"Total variance: {total_variance_shrinked}\")\n",
    "print(65*'=')\n",
    "print(f\"Cumulative explained variance: {np.sum(explained_variance_ratio_shrinked):.4f}\")\n",
    "print(65*'=')"
   ]
  },
  {
   "cell_type": "code",
   "execution_count": 111,
   "id": "1684ed83-304a-42ab-ad98-00451dc317e3",
   "metadata": {
    "include-cell-in-app": true
   },
   "outputs": [
    {
     "data": {
      "text/html": [
       "<div>\n",
       "<style scoped>\n",
       "    .dataframe tbody tr th:only-of-type {\n",
       "        vertical-align: middle;\n",
       "    }\n",
       "\n",
       "    .dataframe tbody tr th {\n",
       "        vertical-align: top;\n",
       "    }\n",
       "\n",
       "    .dataframe thead th {\n",
       "        text-align: right;\n",
       "    }\n",
       "</style>\n",
       "<table border=\"1\" class=\"dataframe\">\n",
       "  <thead>\n",
       "    <tr style=\"text-align: right;\">\n",
       "      <th></th>\n",
       "      <th>F1</th>\n",
       "      <th>F2</th>\n",
       "      <th>F3</th>\n",
       "    </tr>\n",
       "    <tr>\n",
       "      <th>Date</th>\n",
       "      <th></th>\n",
       "      <th></th>\n",
       "      <th></th>\n",
       "    </tr>\n",
       "  </thead>\n",
       "  <tbody>\n",
       "    <tr>\n",
       "      <th>2020-01-03</th>\n",
       "      <td>-0.000987</td>\n",
       "      <td>-0.038614</td>\n",
       "      <td>0.007613</td>\n",
       "    </tr>\n",
       "    <tr>\n",
       "      <th>2020-01-06</th>\n",
       "      <td>-0.027355</td>\n",
       "      <td>-0.000725</td>\n",
       "      <td>-0.010228</td>\n",
       "    </tr>\n",
       "    <tr>\n",
       "      <th>2020-01-07</th>\n",
       "      <td>-0.026940</td>\n",
       "      <td>-0.025533</td>\n",
       "      <td>0.021648</td>\n",
       "    </tr>\n",
       "    <tr>\n",
       "      <th>2020-01-08</th>\n",
       "      <td>-0.039058</td>\n",
       "      <td>-0.029220</td>\n",
       "      <td>-0.004895</td>\n",
       "    </tr>\n",
       "    <tr>\n",
       "      <th>2020-01-09</th>\n",
       "      <td>0.001406</td>\n",
       "      <td>0.029142</td>\n",
       "      <td>-0.004289</td>\n",
       "    </tr>\n",
       "  </tbody>\n",
       "</table>\n",
       "</div>"
      ],
      "text/plain": [
       "                  F1        F2        F3\n",
       "Date                                    \n",
       "2020-01-03 -0.000987 -0.038614  0.007613\n",
       "2020-01-06 -0.027355 -0.000725 -0.010228\n",
       "2020-01-07 -0.026940 -0.025533  0.021648\n",
       "2020-01-08 -0.039058 -0.029220 -0.004895\n",
       "2020-01-09  0.001406  0.029142 -0.004289"
      ]
     },
     "execution_count": 111,
     "metadata": {},
     "output_type": "execute_result"
    }
   ],
   "source": [
    "Factor_Loadings_shrinked = factor_scores(TrainData, eigenvectors_shrinked)\n",
    "Factor_Loadings_shrinked .head()"
   ]
  },
  {
   "cell_type": "code",
   "execution_count": 113,
   "id": "9c100900-5994-487a-8173-3938e30335fe",
   "metadata": {
    "include-cell-in-app": true
   },
   "outputs": [
    {
     "data": {
      "text/html": [
       "<div>\n",
       "<style scoped>\n",
       "    .dataframe tbody tr th:only-of-type {\n",
       "        vertical-align: middle;\n",
       "    }\n",
       "\n",
       "    .dataframe tbody tr th {\n",
       "        vertical-align: top;\n",
       "    }\n",
       "\n",
       "    .dataframe thead th {\n",
       "        text-align: right;\n",
       "    }\n",
       "</style>\n",
       "<table border=\"1\" class=\"dataframe\">\n",
       "  <thead>\n",
       "    <tr style=\"text-align: right;\">\n",
       "      <th></th>\n",
       "      <th>alpha</th>\n",
       "      <th>F1</th>\n",
       "      <th>F2</th>\n",
       "      <th>F3</th>\n",
       "    </tr>\n",
       "  </thead>\n",
       "  <tbody>\n",
       "    <tr>\n",
       "      <th>GOOGL</th>\n",
       "      <td>-0.000102</td>\n",
       "      <td>-0.269655</td>\n",
       "      <td>0.256426</td>\n",
       "      <td>-0.357336</td>\n",
       "    </tr>\n",
       "    <tr>\n",
       "      <th>MSFT</th>\n",
       "      <td>-0.000021</td>\n",
       "      <td>-0.267975</td>\n",
       "      <td>0.248054</td>\n",
       "      <td>-0.204516</td>\n",
       "    </tr>\n",
       "    <tr>\n",
       "      <th>JPM</th>\n",
       "      <td>0.000348</td>\n",
       "      <td>-0.175846</td>\n",
       "      <td>0.113859</td>\n",
       "      <td>-0.622509</td>\n",
       "    </tr>\n",
       "    <tr>\n",
       "      <th>TSLA</th>\n",
       "      <td>-0.000001</td>\n",
       "      <td>-0.686255</td>\n",
       "      <td>-0.725348</td>\n",
       "      <td>0.047967</td>\n",
       "    </tr>\n",
       "    <tr>\n",
       "      <th>AMZN</th>\n",
       "      <td>-0.000322</td>\n",
       "      <td>-0.301684</td>\n",
       "      <td>0.247856</td>\n",
       "      <td>-0.273126</td>\n",
       "    </tr>\n",
       "    <tr>\n",
       "      <th>NVDA</th>\n",
       "      <td>0.000137</td>\n",
       "      <td>-0.512441</td>\n",
       "      <td>0.521732</td>\n",
       "      <td>0.605143</td>\n",
       "    </tr>\n",
       "  </tbody>\n",
       "</table>\n",
       "</div>"
      ],
      "text/plain": [
       "          alpha        F1        F2        F3\n",
       "GOOGL -0.000102 -0.269655  0.256426 -0.357336\n",
       "MSFT  -0.000021 -0.267975  0.248054 -0.204516\n",
       "JPM    0.000348 -0.175846  0.113859 -0.622509\n",
       "TSLA  -0.000001 -0.686255 -0.725348  0.047967\n",
       "AMZN  -0.000322 -0.301684  0.247856 -0.273126\n",
       "NVDA   0.000137 -0.512441  0.521732  0.605143"
      ]
     },
     "execution_count": 113,
     "metadata": {},
     "output_type": "execute_result"
    }
   ],
   "source": [
    "coefs_df_shrinked, se_df_shrinked, stats_df_shrinked = fit_factor_ts_regs(TrainData,Factor_Loadings_shrinked)\n",
    "coefs_df_shrinked"
   ]
  },
  {
   "cell_type": "code",
   "execution_count": 115,
   "id": "54310780-3e85-41df-a4be-97df773ba84b",
   "metadata": {
    "include-cell-in-app": true
   },
   "outputs": [
    {
     "name": "stderr",
     "output_type": "stream",
     "text": [
      "The PostScript backend does not support transparency; partially transparent artists will be rendered opaque.\n"
     ]
    },
    {
     "data": {
      "image/png": "[encoded data removed]",
      "text/plain": [
       "<Figure size 800x600 with 1 Axes>"
      ]
     },
     "metadata": {},
     "output_type": "display_data"
    },
    {
     "data": {
      "text/plain": [
       "(<Figure size 800x600 with 1 Axes>,\n",
       " <Axes: xlabel='Principal Components', ylabel='Explained Variance'>)"
      ]
     },
     "execution_count": 115,
     "metadata": {},
     "output_type": "execute_result"
    }
   ],
   "source": [
    "create_scree_plot(explained_variance_ratio_shrinked)"
   ]
  },
  {
   "cell_type": "markdown",
   "id": "5d28c0c6-88d7-4fb8-863e-cfbe0c8cffa0",
   "metadata": {
    "include-cell-in-app": true
   },
   "source": [
    "## Compute the model evaluation metrics"
   ]
  },
  {
   "cell_type": "markdown",
   "id": "1bff90fa-8f06-4970-8068-a5003156b861",
   "metadata": {
    "include-cell-in-app": true
   },
   "source": [
    "### Perfomance of Model 1 on Test Data"
   ]
  },
  {
   "cell_type": "code",
   "execution_count": 119,
   "id": "846100af-0f17-4ccf-b94e-886ea74ad709",
   "metadata": {
    "include-cell-in-app": true
   },
   "outputs": [
    {
     "data": {
      "text/html": [
       "<div>\n",
       "<style scoped>\n",
       "    .dataframe tbody tr th:only-of-type {\n",
       "        vertical-align: middle;\n",
       "    }\n",
       "\n",
       "    .dataframe tbody tr th {\n",
       "        vertical-align: top;\n",
       "    }\n",
       "\n",
       "    .dataframe thead th {\n",
       "        text-align: right;\n",
       "    }\n",
       "</style>\n",
       "<table border=\"1\" class=\"dataframe\">\n",
       "  <thead>\n",
       "    <tr style=\"text-align: right;\">\n",
       "      <th></th>\n",
       "      <th>GOOGL</th>\n",
       "      <th>MSFT</th>\n",
       "      <th>JPM</th>\n",
       "      <th>TSLA</th>\n",
       "      <th>AMZN</th>\n",
       "      <th>NVDA</th>\n",
       "    </tr>\n",
       "    <tr>\n",
       "      <th>Date</th>\n",
       "      <th></th>\n",
       "      <th></th>\n",
       "      <th></th>\n",
       "      <th></th>\n",
       "      <th></th>\n",
       "      <th></th>\n",
       "    </tr>\n",
       "  </thead>\n",
       "  <tbody>\n",
       "    <tr>\n",
       "      <th>2025-06-30</th>\n",
       "      <td>-0.003943</td>\n",
       "      <td>-0.003425</td>\n",
       "      <td>-0.004173</td>\n",
       "      <td>-0.018547</td>\n",
       "      <td>-0.004292</td>\n",
       "      <td>-0.003128</td>\n",
       "    </tr>\n",
       "    <tr>\n",
       "      <th>2025-07-01</th>\n",
       "      <td>-0.001805</td>\n",
       "      <td>-0.005002</td>\n",
       "      <td>0.005438</td>\n",
       "      <td>-0.054704</td>\n",
       "      <td>-0.005267</td>\n",
       "      <td>-0.028872</td>\n",
       "    </tr>\n",
       "    <tr>\n",
       "      <th>2025-07-02</th>\n",
       "      <td>0.005395</td>\n",
       "      <td>0.006885</td>\n",
       "      <td>0.000729</td>\n",
       "      <td>0.048310</td>\n",
       "      <td>0.007834</td>\n",
       "      <td>0.022129</td>\n",
       "    </tr>\n",
       "    <tr>\n",
       "      <th>2025-07-03</th>\n",
       "      <td>0.014669</td>\n",
       "      <td>0.012461</td>\n",
       "      <td>0.013411</td>\n",
       "      <td>-0.000754</td>\n",
       "      <td>0.014185</td>\n",
       "      <td>0.012121</td>\n",
       "    </tr>\n",
       "    <tr>\n",
       "      <th>2025-07-07</th>\n",
       "      <td>-0.007871</td>\n",
       "      <td>-0.006786</td>\n",
       "      <td>-0.009827</td>\n",
       "      <td>-0.070145</td>\n",
       "      <td>-0.009293</td>\n",
       "      <td>-0.004443</td>\n",
       "    </tr>\n",
       "  </tbody>\n",
       "</table>\n",
       "</div>"
      ],
      "text/plain": [
       "               GOOGL      MSFT       JPM      TSLA      AMZN      NVDA\n",
       "Date                                                                  \n",
       "2025-06-30 -0.003943 -0.003425 -0.004173 -0.018547 -0.004292 -0.003128\n",
       "2025-07-01 -0.001805 -0.005002  0.005438 -0.054704 -0.005267 -0.028872\n",
       "2025-07-02  0.005395  0.006885  0.000729  0.048310  0.007834  0.022129\n",
       "2025-07-03  0.014669  0.012461  0.013411 -0.000754  0.014185  0.012121\n",
       "2025-07-07 -0.007871 -0.006786 -0.009827 -0.070145 -0.009293 -0.004443"
      ]
     },
     "execution_count": 119,
     "metadata": {},
     "output_type": "execute_result"
    }
   ],
   "source": [
    "Factor_Loadings_Model_1 = pd.DataFrame(factor_scores(TestData, eigenvectors), index=TestData.index, columns=[f\"F{j+1}\" for j in range(k)])\n",
    "TestReturns_Model1 = reconstruct_returns(Factor_Loadings_Model_1,eigenvectors,stock_names_selected)\n",
    "TestReturns_Model1.head()"
   ]
  },
  {
   "cell_type": "code",
   "execution_count": 121,
   "id": "163f5a95-0f41-49a8-8186-d30ee5754dc9",
   "metadata": {
    "include-cell-in-app": true
   },
   "outputs": [],
   "source": [
    "r2_overall_model1, rmse_model1, r2_per_asset_model1 = oos_metrics(TestData, TestReturns_Model1)"
   ]
  },
  {
   "cell_type": "code",
   "execution_count": 145,
   "id": "a9118ce3-39dc-4673-a370-6191756cc660",
   "metadata": {
    "include-cell-in-app": true
   },
   "outputs": [
    {
     "data": {
      "text/plain": [
       "0.008870899471610438"
      ]
     },
     "execution_count": 145,
     "metadata": {},
     "output_type": "execute_result"
    }
   ],
   "source": [
    "rmse_model1"
   ]
  },
  {
   "cell_type": "code",
   "execution_count": 171,
   "id": "fe9de5c1-b8e9-48c4-99c5-734a121de613",
   "metadata": {
    "include-cell-in-app": true
   },
   "outputs": [
    {
     "data": {
      "text/html": [
       "<div>\n",
       "<style scoped>\n",
       "    .dataframe tbody tr th:only-of-type {\n",
       "        vertical-align: middle;\n",
       "    }\n",
       "\n",
       "    .dataframe tbody tr th {\n",
       "        vertical-align: top;\n",
       "    }\n",
       "\n",
       "    .dataframe thead th {\n",
       "        text-align: right;\n",
       "    }\n",
       "</style>\n",
       "<table border=\"1\" class=\"dataframe\">\n",
       "  <thead>\n",
       "    <tr style=\"text-align: right;\">\n",
       "      <th></th>\n",
       "      <th>value</th>\n",
       "    </tr>\n",
       "  </thead>\n",
       "  <tbody>\n",
       "    <tr>\n",
       "      <th>Overal R2</th>\n",
       "      <td>0.765940</td>\n",
       "    </tr>\n",
       "    <tr>\n",
       "      <th>RMSE</th>\n",
       "      <td>0.008871</td>\n",
       "    </tr>\n",
       "  </tbody>\n",
       "</table>\n",
       "</div>"
      ],
      "text/plain": [
       "              value\n",
       "Overal R2  0.765940\n",
       "RMSE       0.008871"
      ]
     },
     "execution_count": 171,
     "metadata": {},
     "output_type": "execute_result"
    }
   ],
   "source": [
    "pd.DataFrame([r2_overall_model1, rmse_model1], index = ['Overal R2', 'RMSE'], columns=['value']\n",
    "            )"
   ]
  },
  {
   "cell_type": "code",
   "execution_count": 173,
   "id": "a597742f-471f-49d9-8627-ec95d8dd1813",
   "metadata": {
    "include-cell-in-app": true
   },
   "outputs": [
    {
     "data": {
      "text/html": [
       "<div>\n",
       "<style scoped>\n",
       "    .dataframe tbody tr th:only-of-type {\n",
       "        vertical-align: middle;\n",
       "    }\n",
       "\n",
       "    .dataframe tbody tr th {\n",
       "        vertical-align: top;\n",
       "    }\n",
       "\n",
       "    .dataframe thead th {\n",
       "        text-align: right;\n",
       "    }\n",
       "</style>\n",
       "<table border=\"1\" class=\"dataframe\">\n",
       "  <thead>\n",
       "    <tr style=\"text-align: right;\">\n",
       "      <th></th>\n",
       "      <th>R-Squared</th>\n",
       "    </tr>\n",
       "  </thead>\n",
       "  <tbody>\n",
       "    <tr>\n",
       "      <th>GOOGL</th>\n",
       "      <td>0.460869</td>\n",
       "    </tr>\n",
       "    <tr>\n",
       "      <th>MSFT</th>\n",
       "      <td>0.314735</td>\n",
       "    </tr>\n",
       "    <tr>\n",
       "      <th>JPM</th>\n",
       "      <td>0.365933</td>\n",
       "    </tr>\n",
       "    <tr>\n",
       "      <th>TSLA</th>\n",
       "      <td>0.999893</td>\n",
       "    </tr>\n",
       "    <tr>\n",
       "      <th>AMZN</th>\n",
       "      <td>0.492049</td>\n",
       "    </tr>\n",
       "    <tr>\n",
       "      <th>NVDA</th>\n",
       "      <td>0.966307</td>\n",
       "    </tr>\n",
       "  </tbody>\n",
       "</table>\n",
       "</div>"
      ],
      "text/plain": [
       "       R-Squared\n",
       "GOOGL   0.460869\n",
       "MSFT    0.314735\n",
       "JPM     0.365933\n",
       "TSLA    0.999893\n",
       "AMZN    0.492049\n",
       "NVDA    0.966307"
      ]
     },
     "execution_count": 173,
     "metadata": {},
     "output_type": "execute_result"
    }
   ],
   "source": [
    "pd.DataFrame(r2_per_asset_model1.values,index=r2_per_asset_model1.index, columns=['R-Squared'])"
   ]
  },
  {
   "cell_type": "markdown",
   "id": "0d4dadce-1c53-4d91-8b51-2d061cbf4eee",
   "metadata": {
    "include-cell-in-app": true
   },
   "source": [
    "### Perfomance of Model 2 on Test Data"
   ]
  },
  {
   "cell_type": "code",
   "execution_count": 176,
   "id": "593abb47-e06e-4be7-9135-63b1abe85c1e",
   "metadata": {
    "include-cell-in-app": true
   },
   "outputs": [
    {
     "data": {
      "text/html": [
       "<div>\n",
       "<style scoped>\n",
       "    .dataframe tbody tr th:only-of-type {\n",
       "        vertical-align: middle;\n",
       "    }\n",
       "\n",
       "    .dataframe tbody tr th {\n",
       "        vertical-align: top;\n",
       "    }\n",
       "\n",
       "    .dataframe thead th {\n",
       "        text-align: right;\n",
       "    }\n",
       "</style>\n",
       "<table border=\"1\" class=\"dataframe\">\n",
       "  <thead>\n",
       "    <tr style=\"text-align: right;\">\n",
       "      <th></th>\n",
       "      <th>GOOGL</th>\n",
       "      <th>MSFT</th>\n",
       "      <th>JPM</th>\n",
       "      <th>TSLA</th>\n",
       "      <th>AMZN</th>\n",
       "      <th>NVDA</th>\n",
       "    </tr>\n",
       "    <tr>\n",
       "      <th>Date</th>\n",
       "      <th></th>\n",
       "      <th></th>\n",
       "      <th></th>\n",
       "      <th></th>\n",
       "      <th></th>\n",
       "      <th></th>\n",
       "    </tr>\n",
       "  </thead>\n",
       "  <tbody>\n",
       "    <tr>\n",
       "      <th>2025-06-30</th>\n",
       "      <td>-0.003943</td>\n",
       "      <td>-0.003425</td>\n",
       "      <td>-0.004173</td>\n",
       "      <td>-0.018547</td>\n",
       "      <td>-0.004292</td>\n",
       "      <td>-0.003128</td>\n",
       "    </tr>\n",
       "    <tr>\n",
       "      <th>2025-07-01</th>\n",
       "      <td>-0.001805</td>\n",
       "      <td>-0.005002</td>\n",
       "      <td>0.005438</td>\n",
       "      <td>-0.054704</td>\n",
       "      <td>-0.005267</td>\n",
       "      <td>-0.028872</td>\n",
       "    </tr>\n",
       "    <tr>\n",
       "      <th>2025-07-02</th>\n",
       "      <td>0.005395</td>\n",
       "      <td>0.006885</td>\n",
       "      <td>0.000729</td>\n",
       "      <td>0.048310</td>\n",
       "      <td>0.007834</td>\n",
       "      <td>0.022129</td>\n",
       "    </tr>\n",
       "    <tr>\n",
       "      <th>2025-07-03</th>\n",
       "      <td>0.014669</td>\n",
       "      <td>0.012461</td>\n",
       "      <td>0.013411</td>\n",
       "      <td>-0.000754</td>\n",
       "      <td>0.014185</td>\n",
       "      <td>0.012121</td>\n",
       "    </tr>\n",
       "    <tr>\n",
       "      <th>2025-07-07</th>\n",
       "      <td>-0.007871</td>\n",
       "      <td>-0.006786</td>\n",
       "      <td>-0.009827</td>\n",
       "      <td>-0.070145</td>\n",
       "      <td>-0.009293</td>\n",
       "      <td>-0.004443</td>\n",
       "    </tr>\n",
       "  </tbody>\n",
       "</table>\n",
       "</div>"
      ],
      "text/plain": [
       "               GOOGL      MSFT       JPM      TSLA      AMZN      NVDA\n",
       "Date                                                                  \n",
       "2025-06-30 -0.003943 -0.003425 -0.004173 -0.018547 -0.004292 -0.003128\n",
       "2025-07-01 -0.001805 -0.005002  0.005438 -0.054704 -0.005267 -0.028872\n",
       "2025-07-02  0.005395  0.006885  0.000729  0.048310  0.007834  0.022129\n",
       "2025-07-03  0.014669  0.012461  0.013411 -0.000754  0.014185  0.012121\n",
       "2025-07-07 -0.007871 -0.006786 -0.009827 -0.070145 -0.009293 -0.004443"
      ]
     },
     "execution_count": 176,
     "metadata": {},
     "output_type": "execute_result"
    }
   ],
   "source": [
    "Factor_Loadings_Model_2 = pd.DataFrame(factor_scores(TestData, eigenvectors_shrinked), index=TestData.index, columns=[f\"F{j+1}\" for j in range(k)])\n",
    "TestReturns_Model2 = reconstruct_returns(Factor_Loadings_Model_2,eigenvectors_shrinked,stock_names_selected)\n",
    "TestReturns_Model2.head()"
   ]
  },
  {
   "cell_type": "code",
   "execution_count": 178,
   "id": "aa3ef487-a1d6-4793-a4ad-f66264d18cac",
   "metadata": {
    "include-cell-in-app": true
   },
   "outputs": [],
   "source": [
    "r2_overall_model2, rmse_model2, r2_per_asset_model2 = oos_metrics(TestData, TestReturns_Model2)"
   ]
  },
  {
   "cell_type": "code",
   "execution_count": 180,
   "id": "73cca334-0fec-4b11-a2f7-1f76456b9490",
   "metadata": {
    "include-cell-in-app": true
   },
   "outputs": [
    {
     "data": {
      "text/html": [
       "<div>\n",
       "<style scoped>\n",
       "    .dataframe tbody tr th:only-of-type {\n",
       "        vertical-align: middle;\n",
       "    }\n",
       "\n",
       "    .dataframe tbody tr th {\n",
       "        vertical-align: top;\n",
       "    }\n",
       "\n",
       "    .dataframe thead th {\n",
       "        text-align: right;\n",
       "    }\n",
       "</style>\n",
       "<table border=\"1\" class=\"dataframe\">\n",
       "  <thead>\n",
       "    <tr style=\"text-align: right;\">\n",
       "      <th></th>\n",
       "      <th>value</th>\n",
       "    </tr>\n",
       "  </thead>\n",
       "  <tbody>\n",
       "    <tr>\n",
       "      <th>Overal R2</th>\n",
       "      <td>0.765940</td>\n",
       "    </tr>\n",
       "    <tr>\n",
       "      <th>RMSE</th>\n",
       "      <td>0.008871</td>\n",
       "    </tr>\n",
       "  </tbody>\n",
       "</table>\n",
       "</div>"
      ],
      "text/plain": [
       "              value\n",
       "Overal R2  0.765940\n",
       "RMSE       0.008871"
      ]
     },
     "execution_count": 180,
     "metadata": {},
     "output_type": "execute_result"
    }
   ],
   "source": [
    "pd.DataFrame([r2_overall_model2, rmse_model2], index = ['Overal R2', 'RMSE'], columns=['value']\n",
    "            )"
   ]
  },
  {
   "cell_type": "code",
   "execution_count": 182,
   "id": "f12ecc15-6088-4637-997f-832fef464e5e",
   "metadata": {
    "include-cell-in-app": true
   },
   "outputs": [
    {
     "data": {
      "text/html": [
       "<div>\n",
       "<style scoped>\n",
       "    .dataframe tbody tr th:only-of-type {\n",
       "        vertical-align: middle;\n",
       "    }\n",
       "\n",
       "    .dataframe tbody tr th {\n",
       "        vertical-align: top;\n",
       "    }\n",
       "\n",
       "    .dataframe thead th {\n",
       "        text-align: right;\n",
       "    }\n",
       "</style>\n",
       "<table border=\"1\" class=\"dataframe\">\n",
       "  <thead>\n",
       "    <tr style=\"text-align: right;\">\n",
       "      <th></th>\n",
       "      <th>R-Squared</th>\n",
       "    </tr>\n",
       "  </thead>\n",
       "  <tbody>\n",
       "    <tr>\n",
       "      <th>GOOGL</th>\n",
       "      <td>0.460869</td>\n",
       "    </tr>\n",
       "    <tr>\n",
       "      <th>MSFT</th>\n",
       "      <td>0.314735</td>\n",
       "    </tr>\n",
       "    <tr>\n",
       "      <th>JPM</th>\n",
       "      <td>0.365933</td>\n",
       "    </tr>\n",
       "    <tr>\n",
       "      <th>TSLA</th>\n",
       "      <td>0.999893</td>\n",
       "    </tr>\n",
       "    <tr>\n",
       "      <th>AMZN</th>\n",
       "      <td>0.492049</td>\n",
       "    </tr>\n",
       "    <tr>\n",
       "      <th>NVDA</th>\n",
       "      <td>0.966307</td>\n",
       "    </tr>\n",
       "  </tbody>\n",
       "</table>\n",
       "</div>"
      ],
      "text/plain": [
       "       R-Squared\n",
       "GOOGL   0.460869\n",
       "MSFT    0.314735\n",
       "JPM     0.365933\n",
       "TSLA    0.999893\n",
       "AMZN    0.492049\n",
       "NVDA    0.966307"
      ]
     },
     "execution_count": 182,
     "metadata": {},
     "output_type": "execute_result"
    }
   ],
   "source": [
    "pd.DataFrame(r2_per_asset_model2.values,index=r2_per_asset_model2.index, columns=['R-Squared'])"
   ]
  },
  {
   "cell_type": "code",
   "execution_count": null,
   "id": "f2f77634-aa48-4817-aa83-6e224e365507",
   "metadata": {
    "include-cell-in-app": true
   },
   "outputs": [],
   "source": []
  },
  {
   "cell_type": "code",
   "execution_count": null,
   "id": "5421d8ce-6e47-4c1b-9d5b-fb5bb1ab9919",
   "metadata": {
    "include-cell-in-app": true
   },
   "outputs": [],
   "source": []
  }
 ],
 "metadata": {
  "kernelspec": {
   "display_name": "Python [conda env:base] *",
   "language": "python",
   "name": "conda-base-py"
  },
  "language_info": {
   "codemirror_mode": {
    "name": "ipython",
    "version": 3
   },
   "file_extension": ".py",
   "mimetype": "text/x-python",
   "name": "python",
   "nbconvert_exporter": "python",
   "pygments_lexer": "ipython3",
   "version": "3.12.7"
  }
 },
 "nbformat": 4,
 "nbformat_minor": 5
}
